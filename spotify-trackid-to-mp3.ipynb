{
  "cells": [
    {
      "cell_type": "code",
      "execution_count": null,
      "metadata": {
        "id": "eo9vV7o6EEKr"
      },
      "outputs": [],
      "source": [
        "# gdrive module\n",
        "from google.colab import drive\n",
        "drive.mount('/content/gdrive')"
      ]
    },
    {
      "cell_type": "code",
      "execution_count": null,
      "metadata": {
        "id": "IAR-QCWlDDJy"
      },
      "outputs": [],
      "source": [
        "# installing spotipy and yt-dl modules\n",
        "!pip install spotipy yt_dlp"
      ]
    },
    {
      "cell_type": "code",
      "execution_count": null,
      "metadata": {
        "id": "kM6z7VJHDCkT"
      },
      "outputs": [],
      "source": [
        "# imports\n",
        "import os\n",
        "import time\n",
        "import numpy as np\n",
        "import pandas as pd\n",
        "import json\n",
        "import spotipy\n",
        "import yt_dlp\n",
        "\n",
        "from spotipy.oauth2 import SpotifyClientCredentials"
      ]
    },
    {
      "cell_type": "code",
      "execution_count": null,
      "metadata": {
        "id": "N6tOqIXUEDB9"
      },
      "outputs": [],
      "source": [
        "# data loading\n",
        "data_json = pd.read_json('/content/gdrive/My Drive/AIMS DTU/2024 - Summer Projects/Spotify Recommender System/song-ids.json')\n",
        "data_json = pd.DataFrame(data_json)\n",
        "data_json = data_json.rename(columns={0: 'song_id'})\n",
        "data_json"
      ]
    },
    {
      "cell_type": "code",
      "execution_count": null,
      "metadata": {},
      "outputs": [],
      "source": [
        "# create a copy of the original dataframe (for appending song names)\n",
        "data_json_copy = data_json\n",
        "data_json_copy"
      ]
    },
    {
      "cell_type": "code",
      "execution_count": null,
      "metadata": {
        "id": "4duiGACsDR8Z"
      },
      "outputs": [],
      "source": [
        "# api creds\n",
        "client_id = ''\n",
        "client_secret = ''"
      ]
    },
    {
      "cell_type": "code",
      "execution_count": null,
      "metadata": {
        "id": "BJxiPZeeDUrE"
      },
      "outputs": [],
      "source": [
        "# initializing api client\n",
        "client_credentials_manager = SpotifyClientCredentials(client_id=client_id, client_secret=client_secret)\n",
        "sp = spotipy.Spotify(client_credentials_manager=client_credentials_manager)"
      ]
    },
    {
      "cell_type": "code",
      "execution_count": null,
      "metadata": {
        "id": "nspnyQZODb6n"
      },
      "outputs": [],
      "source": [
        "# song ids\n",
        "song_ids = data_json['song_id'].tolist()\n",
        "print(song_ids)"
      ]
    },
    {
      "cell_type": "code",
      "execution_count": null,
      "metadata": {
        "id": "CLtf6ZacHkiD"
      },
      "outputs": [],
      "source": [
        "# create download directory\n",
        "download_dir = f\"song_ids_downloads\"\n",
        "os.makedirs(download_dir, exist_ok=True)"
      ]
    },
    {
      "cell_type": "code",
      "execution_count": null,
      "metadata": {
        "id": "tVhcIKFgOXsx"
      },
      "outputs": [],
      "source": [
        "# yt track download options\n",
        "ydl_opts = {\n",
        "    'outtmpl': f\"{download_dir}/%(title)s.%(ext)s\",\n",
        "    'format': 'bestaudio/best',\n",
        "    'postprocessors': [{\n",
        "        'key': 'FFmpegExtractAudio',\n",
        "        'preferredcodec': 'mp3',\n",
        "        'preferredquality': '192',\n",
        "    }],\n",
        "}"
      ]
    },
    {
      "cell_type": "code",
      "execution_count": null,
      "metadata": {
        "id": "eZiospjdN0It"
      },
      "outputs": [],
      "source": [
        "# getting track details for entire list and downloading from youtube\n",
        "with yt_dlp.YoutubeDL(ydl_opts) as ydl:\n",
        "    for song_id in song_ids:\n",
        "        track_info = sp.track(song_id)\n",
        "        title = track_info['name']\n",
        "        artist = track_info['artists'][0]['name']\n",
        "        \n",
        "        # start indexing from 1 (for 25000 songs)\n",
        "        print(f\"Downloading {song_ids.index(song_id) + 1} of {len(song_ids)}\")\n",
        "        print(f\"Downloading: {title} - {artist}\")\n",
        "        query = f\"{title} {artist}\"\n",
        "\n",
        "        try:\n",
        "            ydl.download([f\"ytsearch:{query}\"])\n",
        "            info_query = ydl.extract_info(f\"ytsearch:{query}\", download=False)\n",
        "\n",
        "            # get url of the first search result\n",
        "            url = info_query['entries'][0]['webpage_url']\n",
        "\n",
        "            # get title of the downloaded video and store in video_title variable\n",
        "            info_url = ydl.extract_info(url, download=False)\n",
        "            video_title = info_url.get('title')\n",
        "\n",
        "            print(f\"Downloaded: {title} - {artist}\")\n",
        "\n",
        "            # save title to a new column in the dataframe\n",
        "            data_json_copy.at[song_ids.index(song_id), 'song_name'] = f\"{video_title}.mp3\"\n",
        "\n",
        "        except yt_dlp.utils.DownloadError as e:\n",
        "            print(f\"Error downloading {title} - {artist}: {e}\")\n",
        "            data_json_copy.at[song_ids.index(song_id), 'song_name'] = f\"NaN\"\n",
        "\n",
        "        # 10s timeout to avoid getting rate limited\n",
        "        time.sleep(10)"
      ]
    },
    {
      "cell_type": "code",
      "execution_count": null,
      "metadata": {},
      "outputs": [],
      "source": [
        "# updated dataframe\n",
        "data_json_copy"
      ]
    },
    {
      "cell_type": "code",
      "execution_count": null,
      "metadata": {},
      "outputs": [],
      "source": [
        "# save the new dataframe as a csv\n",
        "data_json_copy.to_csv('data_json_copy.csv', index=False)"
      ]
    }
  ],
  "metadata": {
    "colab": {
      "provenance": []
    },
    "kernelspec": {
      "display_name": "Python 3",
      "name": "python3"
    },
    "language_info": {
      "codemirror_mode": {
        "name": "ipython",
        "version": 3
      },
      "file_extension": ".py",
      "mimetype": "text/x-python",
      "name": "python",
      "nbconvert_exporter": "python",
      "pygments_lexer": "ipython3",
      "version": "3.10.12"
    }
  },
  "nbformat": 4,
  "nbformat_minor": 0
}
