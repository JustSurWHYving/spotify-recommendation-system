{
  "cells": [
    {
      "cell_type": "code",
      "execution_count": 1,
      "metadata": {
        "id": "-6eK0CPLuYKJ"
      },
      "outputs": [],
      "source": [
        "# imports\n",
        "import numpy as np\n",
        "import pandas as pd\n",
        "import requests\n",
        "import spotipy\n",
        "import librosa\n",
        "import json\n",
        "import re \n",
        "import urllib.request\n",
        "\n",
        "from spotipy.oauth2 import SpotifyClientCredentials\n",
        "from bs4 import BeautifulSoup"
      ]
    },
    {
      "cell_type": "code",
      "execution_count": 2,
      "metadata": {
        "id": "iKHvBeyrxKjL"
      },
      "outputs": [
        {
          "name": "stdout",
          "output_type": "stream",
          "text": [
            "Enter Client ID: \n",
            "Enter Client Secret: \n"
          ]
        }
      ],
      "source": [
        "# spotify api creds\n",
        "print(\"Enter Client ID: \")\n",
        "SPOTIFY_CLIENT_ID = input()\n",
        "print(\"Enter Client Secret: \")\n",
        "SPOTIFY_CLIENT_SECRET = input()"
      ]
    },
    {
      "cell_type": "code",
      "execution_count": 3,
      "metadata": {
        "id": "eVZwwPDzxI7a"
      },
      "outputs": [],
      "source": [
        "# function to get spotify token\n",
        "def get_spotify_token(client_id, client_secret):\n",
        "    auth_url = 'https://accounts.spotify.com/api/token'\n",
        "    auth_response = requests.post(auth_url, {\n",
        "        'grant_type': 'client_credentials',\n",
        "        'client_id': client_id,\n",
        "        'client_secret': client_secret,\n",
        "    })\n",
        "    auth_response_data = auth_response.json()\n",
        "    return auth_response_data['access_token']"
      ]
    },
    {
      "cell_type": "code",
      "execution_count": 4,
      "metadata": {
        "id": "DA1DXOkT67Wr"
      },
      "outputs": [],
      "source": [
        "# track details function\n",
        "def get_track_details(spotify_id, token):\n",
        "    sp = spotipy.Spotify(auth=token)\n",
        "    track = sp.track(spotify_id)\n",
        "    return track['name'], track['artists'][0]['name']"
      ]
    },
    {
      "cell_type": "code",
      "execution_count": 5,
      "metadata": {},
      "outputs": [],
      "source": [
        " \n",
        "# functions to get the lyrics from spotify id\n",
        "def get_lyrics_by_spotify_id(spotify_id): \n",
        "\n",
        "    spotify_token = get_spotify_token(SPOTIFY_CLIENT_ID, SPOTIFY_CLIENT_SECRET)\n",
        "    song_title, artist = get_track_details(spotify_id, spotify_token)\n",
        "\n",
        "    artist = artist.lower() \n",
        "    song_title = song_title.lower()\n",
        "\n",
        "    # remove all except alphanumeric characters from artist and song_title \n",
        "    artist = re.sub('[^A-Za-z0-9]+', \"\", artist) \n",
        "    song_title = re.sub('[^A-Za-z0-9]+', \"\", song_title)\n",
        "\n",
        "    # remove starting 'the' from artist e.g. the who -> who\n",
        "    if artist.startswith(\"the\"):     \n",
        "        artist = artist[3:] \n",
        "    url = \"http://azlyrics.com/lyrics/\"+artist+\"/\"+song_title+\".html\"\n",
        "\n",
        "     \n",
        "    try: \n",
        "        content = urllib.request.urlopen(url).read() \n",
        "        soup = BeautifulSoup(content, 'html.parser') \n",
        "        lyrics = str(soup) \n",
        "        # lyrics lies between up_partition and down_partition \n",
        "        up_partition = '<!-- Usage of azlyrics.com content by any third-party lyrics provider is prohibited by our licensing agreement. Sorry about that. -->' \n",
        "        down_partition = '<!-- MxM banner -->' \n",
        "        lyrics = lyrics.split(up_partition)[1] \n",
        "        lyrics = lyrics.split(down_partition)[0] \n",
        "        lyrics = lyrics.replace('<br>','').replace('</br>','').replace('</div>','').replace('<br/>','').strip()\n",
        "        \n",
        "        return lyrics     \n",
        "    except Exception as e: \n",
        "        return \"Exception occurred \\n\" +str(e)"
      ]
    },
    {
      "cell_type": "code",
      "execution_count": 6,
      "metadata": {
        "colab": {
          "base_uri": "https://localhost:8080/"
        },
        "id": "NrSNTUiC61LS",
        "outputId": "9ef4830f-bbba-4a23-83d7-ea33bffe6f6b"
      },
      "outputs": [
        {
          "name": "stdout",
          "output_type": "stream",
          "text": [
            "Take a seat\n",
            "Right over there, sat on the stairs\n",
            "Stay or leave\n",
            "The cabinets are bare and I'm unaware\n",
            "Of just how we got into this mess\n",
            "Got so aggressive\n",
            "I know we meant all good intentions\n",
            "\n",
            "So pull me closer\n",
            "Why don't you pull me close\n",
            "Why don't you come on over\n",
            "I can't just let you go\n",
            "\n",
            "Oh baby\n",
            "Why don't you just meet me in the middle\n",
            "I'm losing my mind just a little\n",
            "So why don't you just meet me in the middle\n",
            "In the middle\n",
            "Baby\n",
            "Why don't you just meet me in the middle\n",
            "I'm losing my mind just a little\n",
            "So why don't you just meet me in the middle\n",
            "In the middle\n",
            "\n",
            "Take a step\n",
            "Back for a minute, into the kitchen\n",
            "Floors are wet\n",
            "And taps are still running, dishes are broken\n",
            "How did we get into this mess\n",
            "Got so aggressive\n",
            "I know we meant all good intentions\n",
            "\n",
            "So pull me closer\n",
            "Why don't you pull me close\n",
            "Why don't you come on over\n",
            "I can't just let you go\n",
            "\n",
            "Oh baby\n",
            "Why don't you just meet me in the middle\n",
            "I'm losing my mind just a little\n",
            "So why don't you just meet me in the middle\n",
            "In the middle\n",
            "\n",
            "Looking at you I can't lie\n",
            "Just pouring out admission\n",
            "Regardless my objection\n",
            "And it's not about my pride\n",
            "I need you on my skin just\n",
            "Come over, pull me in just\n",
            "\n",
            "Oh baby\n",
            "Why don't you just meet me in the middle\n",
            "I'm losing my mind just a little\n",
            "So why don't you just meet me in the middle\n",
            "In the middle, no no\n",
            "\n",
            "Baby\n",
            "Why don't you just meet me in the middle, oh yeah\n",
            "I'm losing my mind just a little\n",
            "So why don't you just meet me in the middle, oh\n",
            "In the middle\n",
            "Baby\n",
            "Why don't you just meet me in the middle, baby\n",
            "I'm losing my mind just a little\n",
            "So why don't you just meet me in the middle, middle\n",
            "In the middle, middle\n"
          ]
        }
      ],
      "source": [
        "# example usage (the middle - zedd)\n",
        "spotify_id = 'https://open.spotify.com/track/09IStsImFySgyp0pIQdqAc?si=31abcdbe97a641b5'\n",
        "lyrics = get_lyrics_by_spotify_id(spotify_id)\n",
        "\n",
        "print(lyrics)"
      ]
    },
    {
      "cell_type": "code",
      "execution_count": null,
      "metadata": {
        "id": "PsZfpfgr8TZw"
      },
      "outputs": [],
      "source": []
    }
  ],
  "metadata": {
    "colab": {
      "provenance": []
    },
    "kernelspec": {
      "display_name": "Python 3",
      "name": "python3"
    },
    "language_info": {
      "codemirror_mode": {
        "name": "ipython",
        "version": 3
      },
      "file_extension": ".py",
      "mimetype": "text/x-python",
      "name": "python",
      "nbconvert_exporter": "python",
      "pygments_lexer": "ipython3",
      "version": "3.10.12"
    }
  },
  "nbformat": 4,
  "nbformat_minor": 0
}
