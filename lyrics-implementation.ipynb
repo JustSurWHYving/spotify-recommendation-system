{
  "cells": [
    {
      "cell_type": "code",
      "execution_count": null,
      "metadata": {
        "id": "-6eK0CPLuYKJ"
      },
      "outputs": [],
      "source": [
        "# imports\n",
        "import numpy as np\n",
        "import pandas as pd\n",
        "import requests\n",
        "import spotipy\n",
        "import librosa\n",
        "import json\n",
        "\n",
        "from spotipy.oauth2 import SpotifyClientCredentials\n",
        "from bs4 import BeautifulSoup"
      ]
    },
    {
      "cell_type": "code",
      "execution_count": null,
      "metadata": {
        "id": "iKHvBeyrxKjL"
      },
      "outputs": [],
      "source": [
        "# spotify api creds\n",
        "SPOTIFY_CLIENT_ID = ''\n",
        "SPOTIFY_CLIENT_SECRET = ''"
      ]
    },
    {
      "cell_type": "code",
      "execution_count": null,
      "metadata": {
        "id": "eVZwwPDzxI7a"
      },
      "outputs": [],
      "source": [
        "# function to get spotify token\n",
        "def get_spotify_token(client_id, client_secret):\n",
        "    auth_url = 'https://accounts.spotify.com/api/token'\n",
        "    auth_response = requests.post(auth_url, {\n",
        "        'grant_type': 'client_credentials',\n",
        "        'client_id': client_id,\n",
        "        'client_secret': client_secret,\n",
        "    })\n",
        "    auth_response_data = auth_response.json()\n",
        "    return auth_response_data['access_token']"
      ]
    },
    {
      "cell_type": "code",
      "execution_count": null,
      "metadata": {
        "id": "DA1DXOkT67Wr"
      },
      "outputs": [],
      "source": [
        "# track details function\n",
        "def get_track_details(spotify_id, token):\n",
        "    sp = spotipy.Spotify(auth=token)\n",
        "    track = sp.track(spotify_id)\n",
        "    return track['name'], track['artists'][0]['name']"
      ]
    },
    {
      "cell_type": "code",
      "execution_count": null,
      "metadata": {
        "id": "k6wvL8v76z6-"
      },
      "outputs": [],
      "source": [
        "# lyrics by spotify id\n",
        "def get_lyrics_by_spotify_id(spotify_id):\n",
        "    # spotify token\n",
        "    spotify_token = get_spotify_token(SPOTIFY_CLIENT_ID, SPOTIFY_CLIENT_SECRET)\n",
        "\n",
        "    song_name, artist_name = get_track_details(spotify_id, spotify_token)\n",
        "    \n",
        "    song_name = str(song_name)\n",
        "    artist_name = str(artist_name)\n",
        "\n",
        "    url = 'https://api.lyrics.ovh/v1/' + artist_name + '/' + song_name\n",
        "\n",
        "    response = requests.get(url)\n",
        "    lyrics = json.loads(response.content)   \n",
        "\n",
        "    return lyrics"
      ]
    },
    {
      "cell_type": "code",
      "execution_count": null,
      "metadata": {
        "colab": {
          "base_uri": "https://localhost:8080/"
        },
        "id": "NrSNTUiC61LS",
        "outputId": "9ef4830f-bbba-4a23-83d7-ea33bffe6f6b"
      },
      "outputs": [],
      "source": [
        "# example usage (the middle - zedd)\n",
        "spotify_id = 'https://open.spotify.com/track/09IStsImFySgyp0pIQdqAc?si=31abcdbe97a641b5'\n",
        "lyrics = get_lyrics_by_spotify_id(spotify_id)\n",
        "\n",
        "print(lyrics)"
      ]
    },
    {
      "cell_type": "code",
      "execution_count": null,
      "metadata": {
        "id": "PsZfpfgr8TZw"
      },
      "outputs": [],
      "source": []
    }
  ],
  "metadata": {
    "colab": {
      "provenance": []
    },
    "kernelspec": {
      "display_name": "Python 3",
      "name": "python3"
    },
    "language_info": {
      "codemirror_mode": {
        "name": "ipython",
        "version": 3
      },
      "file_extension": ".py",
      "mimetype": "text/x-python",
      "name": "python",
      "nbconvert_exporter": "python",
      "pygments_lexer": "ipython3",
      "version": "3.10.12"
    }
  },
  "nbformat": 4,
  "nbformat_minor": 0
}
