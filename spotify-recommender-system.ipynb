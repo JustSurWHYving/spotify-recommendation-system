{
  "cells": [
    {
      "cell_type": "markdown",
      "metadata": {
        "id": "7m_WeehvV8Ao"
      },
      "source": [
        "## Initial Setup"
      ]
    },
    {
      "cell_type": "code",
      "execution_count": 1,
      "metadata": {
        "id": "-6eK0CPLuYKJ"
      },
      "outputs": [],
      "source": [
        "# imports\n",
        "import numpy as np\n",
        "import pandas as pd\n",
        "import matplotlib.pyplot as plt\n",
        "import langdetect as ld\n",
        "import requests\n",
        "import spotipy\n",
        "import json\n",
        "import re\n",
        "import urllib.request\n",
        "import pickle\n",
        "import ytmusicapi\n",
        "import nltk\n",
        "\n",
        "from spotipy.oauth2 import SpotifyClientCredentials\n",
        "from ytmusicapi import YTMusic\n",
        "from nltk.corpus import stopwords\n",
        "from nltk.tokenize import word_tokenize\n",
        "from nltk.stem import WordNetLemmatizer\n",
        "from sklearn.feature_extraction.text import TfidfVectorizer\n",
        "from sklearn.metrics.pairwise import cosine_similarity\n",
        "from sklearn.preprocessing import MinMaxScaler"
      ]
    },
    {
      "cell_type": "code",
      "execution_count": 2,
      "metadata": {
        "id": "9SxUQXFG8flN"
      },
      "outputs": [],
      "source": [
        "# suppress pandas slicing warnings\n",
        "pd.options.mode.chained_assignment = None"
      ]
    },
    {
      "cell_type": "markdown",
      "metadata": {
        "id": "hLP1wdvFC82D"
      },
      "source": [
        "---"
      ]
    },
    {
      "cell_type": "markdown",
      "metadata": {
        "id": "_9yAAW3aC-P5"
      },
      "source": [
        "## Spotipy Setup (DONT RUN)"
      ]
    },
    {
      "cell_type": "code",
      "execution_count": null,
      "metadata": {
        "id": "iKHvBeyrxKjL"
      },
      "outputs": [],
      "source": [
        "# spotify api creds\n",
        "SPOTIFY_CLIENT_ID = 'aae36d55f5c74d10a781b1b88f1ff23b'\n",
        "SPOTIFY_CLIENT_SECRET = 'c63d91e61e64428b9ef84683f86c80e5'"
      ]
    },
    {
      "cell_type": "code",
      "execution_count": null,
      "metadata": {
        "id": "eVZwwPDzxI7a"
      },
      "outputs": [],
      "source": [
        "# function to get spotify token\n",
        "def get_spotify_token(client_id, client_secret):\n",
        "    auth_url = 'https://accounts.spotify.com/api/token'\n",
        "    auth_response = requests.post(auth_url, {\n",
        "        'grant_type': 'client_credentials',\n",
        "        'client_id': client_id,\n",
        "        'client_secret': client_secret,\n",
        "    })\n",
        "    auth_response_data = auth_response.json()\n",
        "    return auth_response_data['access_token']"
      ]
    },
    {
      "cell_type": "code",
      "execution_count": null,
      "metadata": {
        "id": "8MfpJM4kq5Ut"
      },
      "outputs": [],
      "source": [
        "# store the spotify token\n",
        "spotify_token = get_spotify_token(SPOTIFY_CLIENT_ID, SPOTIFY_CLIENT_SECRET)"
      ]
    },
    {
      "cell_type": "code",
      "execution_count": null,
      "metadata": {
        "id": "jW5xBg-zrJHL"
      },
      "outputs": [],
      "source": [
        "# authorise spotipy module\n",
        "sp = spotipy.Spotify(auth=spotify_token)"
      ]
    },
    {
      "cell_type": "code",
      "execution_count": null,
      "metadata": {
        "id": "DA1DXOkT67Wr"
      },
      "outputs": [],
      "source": [
        "# track details function\n",
        "def get_track_details(spotify_id):\n",
        "    track = sp.track(spotify_id)\n",
        "    return track['name'], track['artists'][0]['name']"
      ]
    },
    {
      "cell_type": "markdown",
      "metadata": {
        "id": "w6Xj1hAAV8Ap"
      },
      "source": [
        "---"
      ]
    },
    {
      "cell_type": "markdown",
      "metadata": {
        "id": "9s1w4INLp0XI"
      },
      "source": [
        "## Feature Selection & Engineering (DONT RUN)"
      ]
    },
    {
      "cell_type": "code",
      "execution_count": null,
      "metadata": {
        "id": "Yf8E8lEPKWBJ"
      },
      "outputs": [],
      "source": [
        "# function to get the track's features\n",
        "def get_track_features(spotify_id):\n",
        "    track = sp.track(spotify_id)\n",
        "    audio_features = sp.audio_features(spotify_id)[0]\n",
        "\n",
        "    features = {\n",
        "        \"acousticness\": audio_features.get('acousticness', None),\n",
        "        \"danceability\": audio_features.get('danceability', None),\n",
        "        \"energy\": audio_features.get('energy', None),\n",
        "        \"instrumentalness\": audio_features.get('instrumentalness', None),\n",
        "        \"key\": audio_features.get('key', None),\n",
        "        \"liveness\": audio_features.get('liveness', None),\n",
        "        \"loudness\": audio_features.get('loudness', None),\n",
        "        \"mode\": audio_features.get('mode', None),\n",
        "        \"speechiness\": audio_features.get('speechiness', None),\n",
        "        \"tempo\": audio_features.get('tempo', None),\n",
        "        \"time_signature\": audio_features.get('time_signature', None),\n",
        "        \"valence\": audio_features.get('valence', None),\n",
        "        \"artists\": [artist['name'] for artist in track['artists']],\n",
        "        \"album_name\": track['album']['name'],\n",
        "        \"album_type\": track['album']['album_type'],\n",
        "        \"release_date\": track['album']['release_date'],\n",
        "        \"popularity\": track['popularity'],\n",
        "        \"duration_ms\": track['duration_ms'],\n",
        "        \"explicit\": track['explicit'],\n",
        "        \"genres\": sp.artist(track['artists'][0]['id']).get('genres', [])  # Assuming genres from the first artist\n",
        "    }\n",
        "\n",
        "\n",
        "    features = pd.DataFrame([features])\n",
        "\n",
        "    return features"
      ]
    },
    {
      "cell_type": "code",
      "execution_count": null,
      "metadata": {
        "id": "2BbhPBIMqJ7e"
      },
      "outputs": [],
      "source": [
        "spotify_id = 'https://open.spotify.com/track/1pXrR5Y9OgcIV2JEAl2lCB'\n",
        "features = get_track_features(spotify_id)\n",
        "features"
      ]
    },
    {
      "cell_type": "markdown",
      "metadata": {
        "id": "IVEjfJWgDAc2"
      },
      "source": [
        "---"
      ]
    },
    {
      "cell_type": "markdown",
      "metadata": {
        "id": "1PBeA6DmDBwN"
      },
      "source": [
        "## Lyrics (DONT RUN)"
      ]
    },
    {
      "cell_type": "code",
      "execution_count": null,
      "metadata": {
        "id": "k57AvqiwAQp4"
      },
      "outputs": [],
      "source": [
        "# authorise ytmusic (generates auth file)\n",
        "ytmusicapi oauth\n",
        "auth_file = ''"
      ]
    },
    {
      "cell_type": "code",
      "execution_count": null,
      "metadata": {
        "id": "38s8kaWs1ICp"
      },
      "outputs": [],
      "source": [
        "# lyrics using yt music (loop over all spotify ids to get lyrics and then indexwise add them to the dataframe)\n",
        "ytmusic = YTMusic(r\"{auth_file}\")\n",
        "\n",
        "def get_lyrics(spotify_id):\n",
        "  track = sp.track(spotify_id)\n",
        "  song_name = track['name']\n",
        "  artist_name = track['artists'][0]['name']\n",
        "\n",
        "  query = f\"{song_name} {artist_name}\"\n",
        "  search_results = ytmusic.search(query, filter='songs')\n",
        "  video_id = None\n",
        "\n",
        "  for result in search_results:\n",
        "      if 'videoId' in result:\n",
        "          video_id = result['videoId']\n",
        "          break\n",
        "\n",
        "  if video_id:\n",
        "      print(f\"Video ID: {video_id}\")\n",
        "      watch_playlist = ytmusic.get_watch_playlist(videoId=video_id)\n",
        "      lyrics_id = watch_playlist.get('lyrics', 'No lyrics found')\n",
        "      if lyrics_id != 'No lyrics found':\n",
        "          print(f\"Lyrics ID: {lyrics_id}\")\n",
        "          lyrics_details = ytmusic.get_lyrics(lyrics_id)\n",
        "          print(\"Lyrics Details:\")\n",
        "          print(lyrics_details)\n",
        "      else:\n",
        "          print(\"Lyrics ID not found.\")\n",
        "  else:\n",
        "      print(\"No results found.\")"
      ]
    },
    {
      "cell_type": "markdown",
      "metadata": {
        "id": "ywfYbPSuDJ-5"
      },
      "source": [
        "---"
      ]
    },
    {
      "cell_type": "markdown",
      "metadata": {
        "id": "JqK5zw4GDK3o"
      },
      "source": [
        "## Dataframe Engineering (DONT RUN)"
      ]
    },
    {
      "cell_type": "code",
      "execution_count": null,
      "metadata": {
        "id": "cC-A9u1lqy25"
      },
      "outputs": [],
      "source": [
        "# importing data\n",
        "data_loaded_path = '/content/gdrive/MyDrive/AIMS DTU/2024 - Summer Projects/Spotify Recommender System/Data/data_loaded.pkl'\n",
        "\n",
        "data_loaded = pickle.load(open(pickle_file_path, 'rb'))\n",
        "data_loaded.head()"
      ]
    },
    {
      "cell_type": "code",
      "execution_count": null,
      "metadata": {
        "id": "dAZJ1IvD8wKM"
      },
      "outputs": [],
      "source": [
        "# create a new empty column for language\n",
        "data_loaded['language'] = np.nan"
      ]
    },
    {
      "cell_type": "code",
      "execution_count": null,
      "metadata": {
        "id": "PsZfpfgr8TZw"
      },
      "outputs": [],
      "source": [
        "# language detection implemented directly in the dataframe (takes time, export new df as a pkl df)\n",
        "for i in range(len(data_loaded)):\n",
        "  data_loaded['lyrics'][i] = str(data_loaded['lyrics'][i])\n",
        "\n",
        "  if data_loaded['lyrics'][i] == None:\n",
        "    data_loaded['language'][i] = None\n",
        "  else:\n",
        "    data_loaded['language'][i] = ld.detect(data_loaded['lyrics'][i])"
      ]
    },
    {
      "cell_type": "code",
      "execution_count": null,
      "metadata": {
        "id": "N3Hu0lLhxMTY"
      },
      "outputs": [],
      "source": [
        "data_loaded.head()"
      ]
    },
    {
      "cell_type": "code",
      "execution_count": null,
      "metadata": {
        "id": "sr-xoiTm-6S2"
      },
      "outputs": [],
      "source": [
        "data_loaded.to_pickle('data.pkl')"
      ]
    },
    {
      "cell_type": "markdown",
      "metadata": {
        "id": "KP0jX7cTFsay"
      },
      "source": [
        "---"
      ]
    },
    {
      "cell_type": "markdown",
      "metadata": {
        "id": "MFP-QuSpFxK7"
      },
      "source": [
        "## Data Pruning (DONT RUN)"
      ]
    },
    {
      "cell_type": "code",
      "execution_count": null,
      "metadata": {
        "id": "PiI5WrBkFtbV"
      },
      "outputs": [],
      "source": [
        "data_full = pd.read_pickle('/content/gdrive/MyDrive/AIMS DTU/2024 - Summer Projects/Spotify Recommender System/Data/data_full.pkl')\n",
        "data_full.head()"
      ]
    },
    {
      "cell_type": "code",
      "execution_count": null,
      "metadata": {
        "id": "2OFS5uM2Gb2w"
      },
      "outputs": [],
      "source": [
        "data_full.columns"
      ]
    },
    {
      "cell_type": "code",
      "execution_count": null,
      "metadata": {
        "id": "Y9fdGKbdKs9r"
      },
      "outputs": [],
      "source": [
        "data_full.drop(['track_number', 'disc_number','preview_url', 'isrc','album_id',\n",
        "           'album_type', 'album_total_tracks', 'album_release_date_precision',\n",
        "           'album_images', 'artist_ids', 'external_url', 'popular_artist_id', 'video_id'], axis=1, inplace=True)"
      ]
    },
    {
      "cell_type": "code",
      "execution_count": null,
      "metadata": {
        "id": "9YAdQ7fUMdMO"
      },
      "outputs": [],
      "source": [
        "data_full.head()"
      ]
    },
    {
      "cell_type": "code",
      "execution_count": null,
      "metadata": {
        "id": "YMN8loXpMeZq"
      },
      "outputs": [],
      "source": [
        "data_full.to_pickle('data.pkl')"
      ]
    },
    {
      "cell_type": "markdown",
      "metadata": {
        "id": "AW4g0KTwM00A"
      },
      "source": [
        "---"
      ]
    },
    {
      "cell_type": "markdown",
      "metadata": {
        "id": "NKhQSuGAM2Ce"
      },
      "source": [
        "## Data Loading & Processing"
      ]
    },
    {
      "cell_type": "code",
      "execution_count": 3,
      "metadata": {
        "colab": {
          "base_uri": "https://localhost:8080/",
          "height": 206
        },
        "id": "O1MF18ryTjEZ",
        "outputId": "293178e2-2579-4c96-8f6a-402bf1b0c393"
      },
      "outputs": [
        {
          "data": {
            "text/html": [
              "<div>\n",
              "<style scoped>\n",
              "    .dataframe tbody tr th:only-of-type {\n",
              "        vertical-align: middle;\n",
              "    }\n",
              "\n",
              "    .dataframe tbody tr th {\n",
              "        vertical-align: top;\n",
              "    }\n",
              "\n",
              "    .dataframe thead th {\n",
              "        text-align: right;\n",
              "    }\n",
              "</style>\n",
              "<table border=\"1\" class=\"dataframe\">\n",
              "  <thead>\n",
              "    <tr style=\"text-align: right;\">\n",
              "      <th></th>\n",
              "      <th>track_id</th>\n",
              "      <th>name</th>\n",
              "      <th>artist</th>\n",
              "    </tr>\n",
              "  </thead>\n",
              "  <tbody>\n",
              "    <tr>\n",
              "      <th>0</th>\n",
              "      <td>003vvx7Niy0yvhvHt4a68B</td>\n",
              "      <td>Mr. Brightside</td>\n",
              "      <td>The Killers</td>\n",
              "    </tr>\n",
              "    <tr>\n",
              "      <th>1</th>\n",
              "      <td>004dXjRVGDeHXat28g5TU3</td>\n",
              "      <td>Achei Que Fosse Fácil</td>\n",
              "      <td>Bala na Agulha</td>\n",
              "    </tr>\n",
              "    <tr>\n",
              "      <th>2</th>\n",
              "      <td>005cocyIL36CVjjtUEdVSq</td>\n",
              "      <td>En Solskinnsdag</td>\n",
              "      <td>Postgirobygget</td>\n",
              "    </tr>\n",
              "    <tr>\n",
              "      <th>3</th>\n",
              "      <td>005lwxGU1tms6HGELIcUv9</td>\n",
              "      <td>I Kissed A Girl</td>\n",
              "      <td>Katy Perry</td>\n",
              "    </tr>\n",
              "    <tr>\n",
              "      <th>4</th>\n",
              "      <td>006pMMCuRo2TFjh8sNGSov</td>\n",
              "      <td>Dias De Luta, Dias De Gloria</td>\n",
              "      <td>Charlie Brown Jr.</td>\n",
              "    </tr>\n",
              "  </tbody>\n",
              "</table>\n",
              "</div>"
            ],
            "text/plain": [
              "                 track_id                          name             artist\n",
              "0  003vvx7Niy0yvhvHt4a68B                Mr. Brightside        The Killers\n",
              "1  004dXjRVGDeHXat28g5TU3         Achei Que Fosse Fácil     Bala na Agulha\n",
              "2  005cocyIL36CVjjtUEdVSq               En Solskinnsdag     Postgirobygget\n",
              "3  005lwxGU1tms6HGELIcUv9               I Kissed A Girl         Katy Perry\n",
              "4  006pMMCuRo2TFjh8sNGSov  Dias De Luta, Dias De Gloria  Charlie Brown Jr."
            ]
          },
          "execution_count": 3,
          "metadata": {},
          "output_type": "execute_result"
        }
      ],
      "source": [
        "# loading the song details from spotify using processed csv\n",
        "songs_playlist = pd.read_csv('data/playlist.csv')\n",
        "songs_playlist = songs_playlist.rename(columns={'SongID': 'track_id'})\n",
        "songs_playlist.head()"
      ]
    },
    {
      "cell_type": "code",
      "execution_count": 4,
      "metadata": {
        "colab": {
          "base_uri": "https://localhost:8080/",
          "height": 455
        },
        "id": "Tf2eGXgHeO0M",
        "outputId": "b3ba7a1d-e46f-48b7-b2dd-0c6242bf9568"
      },
      "outputs": [
        {
          "data": {
            "text/html": [
              "<div>\n",
              "<style scoped>\n",
              "    .dataframe tbody tr th:only-of-type {\n",
              "        vertical-align: middle;\n",
              "    }\n",
              "\n",
              "    .dataframe tbody tr th {\n",
              "        vertical-align: top;\n",
              "    }\n",
              "\n",
              "    .dataframe thead th {\n",
              "        text-align: right;\n",
              "    }\n",
              "</style>\n",
              "<table border=\"1\" class=\"dataframe\">\n",
              "  <thead>\n",
              "    <tr style=\"text-align: right;\">\n",
              "      <th></th>\n",
              "      <th>SongIDs</th>\n",
              "    </tr>\n",
              "    <tr>\n",
              "      <th>UserID</th>\n",
              "      <th></th>\n",
              "    </tr>\n",
              "  </thead>\n",
              "  <tbody>\n",
              "    <tr>\n",
              "      <th>609</th>\n",
              "      <td>[4yqtwO7MQIIXqoiRBPHAgR, 18gsp3kqbBD3SDvm364cq...</td>\n",
              "    </tr>\n",
              "    <tr>\n",
              "      <th>730</th>\n",
              "      <td>[5TtTijiNYtFc6ktQARjY30, 0WtDGnWL2KrMCk0mI1Gpw...</td>\n",
              "    </tr>\n",
              "    <tr>\n",
              "      <th>857</th>\n",
              "      <td>[0wRn3ggAY1fIupTaVigdza, 3jnivalP2loEgZfkMLFBj...</td>\n",
              "    </tr>\n",
              "    <tr>\n",
              "      <th>1038</th>\n",
              "      <td>[3Q3myFA7q4Op95DOpHplaY, 7hmUr86smWd2FeviTU1P7...</td>\n",
              "    </tr>\n",
              "    <tr>\n",
              "      <th>1132</th>\n",
              "      <td>[1gdbRUzXH6H51NXJPtQ78W, 26ZzSLUJMmYp5u1hDELEW...</td>\n",
              "    </tr>\n",
              "    <tr>\n",
              "      <th>...</th>\n",
              "      <td>...</td>\n",
              "    </tr>\n",
              "    <tr>\n",
              "      <th>6323</th>\n",
              "      <td>[0KvKs516V9gJZjFc6ZITyz, 6GgK6y4XRp2D4hNO5oj7B...</td>\n",
              "    </tr>\n",
              "    <tr>\n",
              "      <th>7997</th>\n",
              "      <td>[4hdgOWO8h066Tr1fgdzNi5, 4XXLXNXxgttSt004XALC4...</td>\n",
              "    </tr>\n",
              "    <tr>\n",
              "      <th>7421</th>\n",
              "      <td>[789CxjEOtO76BVD1A9yJQH, 3U4isOIWM3VvDubwSI3y7...</td>\n",
              "    </tr>\n",
              "    <tr>\n",
              "      <th>8026</th>\n",
              "      <td>[7ef4DlsgrMEH11cDZd32M6, 7qiZfU4dY1lWllzX7mPBI...</td>\n",
              "    </tr>\n",
              "    <tr>\n",
              "      <th>7233</th>\n",
              "      <td>[77loZpT5Y5PRP1S451P9Yz, 0Urnbn9cZoES4oLXjWYE1...</td>\n",
              "    </tr>\n",
              "  </tbody>\n",
              "</table>\n",
              "<p>3632 rows × 1 columns</p>\n",
              "</div>"
            ],
            "text/plain": [
              "                                                  SongIDs\n",
              "UserID                                                   \n",
              "609     [4yqtwO7MQIIXqoiRBPHAgR, 18gsp3kqbBD3SDvm364cq...\n",
              "730     [5TtTijiNYtFc6ktQARjY30, 0WtDGnWL2KrMCk0mI1Gpw...\n",
              "857     [0wRn3ggAY1fIupTaVigdza, 3jnivalP2loEgZfkMLFBj...\n",
              "1038    [3Q3myFA7q4Op95DOpHplaY, 7hmUr86smWd2FeviTU1P7...\n",
              "1132    [1gdbRUzXH6H51NXJPtQ78W, 26ZzSLUJMmYp5u1hDELEW...\n",
              "...                                                   ...\n",
              "6323    [0KvKs516V9gJZjFc6ZITyz, 6GgK6y4XRp2D4hNO5oj7B...\n",
              "7997    [4hdgOWO8h066Tr1fgdzNi5, 4XXLXNXxgttSt004XALC4...\n",
              "7421    [789CxjEOtO76BVD1A9yJQH, 3U4isOIWM3VvDubwSI3y7...\n",
              "8026    [7ef4DlsgrMEH11cDZd32M6, 7qiZfU4dY1lWllzX7mPBI...\n",
              "7233    [77loZpT5Y5PRP1S451P9Yz, 0Urnbn9cZoES4oLXjWYE1...\n",
              "\n",
              "[3632 rows x 1 columns]"
            ]
          },
          "execution_count": 4,
          "metadata": {},
          "output_type": "execute_result"
        }
      ],
      "source": [
        "# loading user playlist data\n",
        "with open('data/users.json', 'r') as f:\n",
        "    users_data = json.load(f)\n",
        "\n",
        "users = pd.DataFrame([(user['UserID'], user['SongIDs']) for user in users_data], columns=['UserID', 'SongIDs'])\n",
        "\n",
        "# Set UserID as the index\n",
        "users.set_index('UserID', inplace=True)\n",
        "\n",
        "# Display the DataFrame\n",
        "users"
      ]
    },
    {
      "cell_type": "code",
      "execution_count": 5,
      "metadata": {
        "id": "T80IYiene8sw"
      },
      "outputs": [],
      "source": [
        "# playlist of any user i\n",
        "def generate_user_playlist(df, user_id):\n",
        "  if user_id in df.index:\n",
        "    user_df = df.loc[user_id]\n",
        "    user_playlist = user_df['SongIDs']\n",
        "    return user_playlist\n",
        "  else:\n",
        "    print(f\"User with ID '{user_id}' not found in the data.\")\n",
        "    return []"
      ]
    },
    {
      "cell_type": "markdown",
      "metadata": {
        "id": "_ApmQ3BPbAet"
      },
      "source": [
        "---"
      ]
    },
    {
      "cell_type": "markdown",
      "metadata": {
        "id": "c-6WAels9k6w"
      },
      "source": [
        "## DONT RUN"
      ]
    },
    {
      "cell_type": "code",
      "execution_count": null,
      "metadata": {
        "id": "DNOTxGJVM1YF"
      },
      "outputs": [],
      "source": [
        "# loading the data\n",
        "data = pd.read_pickle('/content/gdrive/MyDrive/AIMS DTU/2024 - Summer Projects/Spotify Recommender System/Data/data.pkl')\n",
        "data.head()"
      ]
    },
    {
      "cell_type": "code",
      "execution_count": null,
      "metadata": {
        "id": "OzR58M9kamXj"
      },
      "outputs": [],
      "source": [
        "# cleaning lyrics\n",
        "data['lyrics'] = data['lyrics'].str.lower().replace(r'^\\w\\s', ' ').replace(r'\\n', ' ', regex = True)\n",
        "data.head()"
      ]
    },
    {
      "cell_type": "code",
      "execution_count": null,
      "metadata": {
        "id": "GUzdLl6CWHUf"
      },
      "outputs": [],
      "source": [
        "# renaming and fixing date format\n",
        "data.rename(columns={'album_release_date': 'release_year'}, inplace=True)\n",
        "data['release_year'] = data['release_year'].apply(lambda x: x.split('-')[0])\n",
        "data.head()"
      ]
    },
    {
      "cell_type": "code",
      "execution_count": null,
      "metadata": {
        "id": "YlWSRcvmVm_v"
      },
      "outputs": [],
      "source": [
        "# scaling popularity of song and artist\n",
        "data['popularity'] = data['popularity'].apply(int)\n",
        "data['artist_popularity'] = data['artist_popularity'].apply(int)\n",
        "\n",
        "data['popularity'] = data['popularity'].apply(lambda x: int(x/10))\n",
        "data['artist_popularity'] = data['artist_popularity'].apply(lambda x: int(x/10))\n",
        "data.head()"
      ]
    },
    {
      "cell_type": "code",
      "execution_count": null,
      "metadata": {
        "id": "TclCbEODqz-i"
      },
      "outputs": [],
      "source": [
        "# scaling float64 features\n",
        "float_cols = data.dtypes[data.dtypes == 'float64'].index.values"
      ]
    },
    {
      "cell_type": "markdown",
      "metadata": {
        "id": "0zHXlt3ubrib"
      },
      "source": [
        "---"
      ]
    },
    {
      "cell_type": "markdown",
      "metadata": {
        "id": "0-cHIMH9bsyp"
      },
      "source": [
        "## Tokenization & Lemmatizing (DONOT RUN)"
      ]
    },
    {
      "cell_type": "code",
      "execution_count": 7,
      "metadata": {
        "id": "hsMxXOjGZS6n"
      },
      "outputs": [
        {
          "name": "stderr",
          "output_type": "stream",
          "text": [
            "[nltk_data] Downloading package punkt to /home/ashish/nltk_data...\n",
            "[nltk_data]   Unzipping tokenizers/punkt.zip.\n",
            "[nltk_data] Downloading package stopwords to /home/ashish/nltk_data...\n",
            "[nltk_data]   Unzipping corpora/stopwords.zip.\n",
            "[nltk_data] Downloading package wordnet to /home/ashish/nltk_data...\n"
          ]
        }
      ],
      "source": [
        "# download tokenizer and lemmatizer\n",
        "nltk.download('punkt')\n",
        "nltk.download('stopwords')\n",
        "nltk.download('wordnet')\n",
        "\n",
        "# remove english common words\n",
        "en_stop = set(stopwords.words('english'))"
      ]
    },
    {
      "cell_type": "code",
      "execution_count": null,
      "metadata": {
        "id": "dOZsMsITfxm3"
      },
      "outputs": [],
      "source": [
        "# tokenize and lemmatize\n",
        "def preprocess_lyrics(lyrics):\n",
        "    lyrics = lyrics.lower()\n",
        "    lyrics = re.sub(r'[^a-z\\s]', '', lyrics)\n",
        "    words = word_tokenize(lyrics)\n",
        "    words = [WordNetLemmatizer().lemmatize(word) for word in words if word not in en_stop]\n",
        "    return words\n",
        "\n",
        "preprocessed_lyrics = preprocess_lyrics(data['lyrics'][0])\n",
        "print(preprocessed_lyrics)"
      ]
    },
    {
      "cell_type": "code",
      "execution_count": null,
      "metadata": {
        "id": "6kCNKyHpiSfT"
      },
      "outputs": [],
      "source": [
        "# applying tokenization to the lyrics column\n",
        "data['lyrics_tokenized'] = np.nan\n",
        "\n",
        "for i in range(len(data)):\n",
        "  data['lyrics_tokenized'][i] = preprocess_lyrics(data['lyrics'][i])"
      ]
    },
    {
      "cell_type": "code",
      "execution_count": null,
      "metadata": {
        "id": "0idX-hmipOHA"
      },
      "outputs": [],
      "source": [
        "# shifting language column\n",
        "col = data.pop('language')\n",
        "data.insert(len(data.columns), 'language', col)\n",
        "data.head()"
      ]
    },
    {
      "cell_type": "markdown",
      "metadata": {
        "id": "fncMBpExiDPg"
      },
      "source": [
        "---"
      ]
    },
    {
      "cell_type": "markdown",
      "metadata": {
        "id": "2uTY9g69iEOM"
      },
      "source": [
        "## Vectorization"
      ]
    },
    {
      "cell_type": "code",
      "execution_count": 6,
      "metadata": {
        "colab": {
          "base_uri": "https://localhost:8080/",
          "height": 690
        },
        "id": "x5uaD_llggxb",
        "outputId": "2327cced-e236-47be-a3eb-4bd1c9a70e3e"
      },
      "outputs": [
        {
          "data": {
            "text/html": [
              "<div>\n",
              "<style scoped>\n",
              "    .dataframe tbody tr th:only-of-type {\n",
              "        vertical-align: middle;\n",
              "    }\n",
              "\n",
              "    .dataframe tbody tr th {\n",
              "        vertical-align: top;\n",
              "    }\n",
              "\n",
              "    .dataframe thead th {\n",
              "        text-align: right;\n",
              "    }\n",
              "</style>\n",
              "<table border=\"1\" class=\"dataframe\">\n",
              "  <thead>\n",
              "    <tr style=\"text-align: right;\">\n",
              "      <th></th>\n",
              "      <th>track_name</th>\n",
              "      <th>track_id</th>\n",
              "      <th>duration_ms</th>\n",
              "      <th>explicit</th>\n",
              "      <th>popularity</th>\n",
              "      <th>album_name</th>\n",
              "      <th>release_year</th>\n",
              "      <th>artist_names</th>\n",
              "      <th>acousticness</th>\n",
              "      <th>danceability</th>\n",
              "      <th>...</th>\n",
              "      <th>valence</th>\n",
              "      <th>popular_artist</th>\n",
              "      <th>combined_genres</th>\n",
              "      <th>combined_popularity</th>\n",
              "      <th>combined_followers</th>\n",
              "      <th>artist_popularity</th>\n",
              "      <th>artist_followers</th>\n",
              "      <th>lyrics</th>\n",
              "      <th>lyrics_tokenized</th>\n",
              "      <th>language</th>\n",
              "    </tr>\n",
              "  </thead>\n",
              "  <tbody>\n",
              "    <tr>\n",
              "      <th>24980</th>\n",
              "      <td>Dhadkan</td>\n",
              "      <td>3U3Z35w2bnRUJ1coau5Bgj</td>\n",
              "      <td>333532</td>\n",
              "      <td>False</td>\n",
              "      <td>0</td>\n",
              "      <td>Dhadkan</td>\n",
              "      <td>2023</td>\n",
              "      <td>[Danny B]</td>\n",
              "      <td>0.1660</td>\n",
              "      <td>0.513</td>\n",
              "      <td>...</td>\n",
              "      <td>0.3330</td>\n",
              "      <td>Danny B</td>\n",
              "      <td>[]</td>\n",
              "      <td>11.0</td>\n",
              "      <td>10575.0</td>\n",
              "      <td>1</td>\n",
              "      <td>10575</td>\n",
              "      <td>nan</td>\n",
              "      <td>[nan]</td>\n",
              "      <td>tl</td>\n",
              "    </tr>\n",
              "    <tr>\n",
              "      <th>24981</th>\n",
              "      <td>Hold My Breath</td>\n",
              "      <td>6vmk2FBXwYiiicPUJ5lXuD</td>\n",
              "      <td>223384</td>\n",
              "      <td>False</td>\n",
              "      <td>3</td>\n",
              "      <td>Hold My Breath</td>\n",
              "      <td>2022</td>\n",
              "      <td>[Paper Idol, ufo ufo]</td>\n",
              "      <td>0.0345</td>\n",
              "      <td>0.665</td>\n",
              "      <td>...</td>\n",
              "      <td>0.4920</td>\n",
              "      <td>Paper Idol</td>\n",
              "      <td>[la pop]</td>\n",
              "      <td>73.0</td>\n",
              "      <td>36868.0</td>\n",
              "      <td>4</td>\n",
              "      <td>22909</td>\n",
              "      <td>break down every single notion we had poetry i...</td>\n",
              "      <td>[break, every, single, notion, poetry, motion,...</td>\n",
              "      <td>en</td>\n",
              "    </tr>\n",
              "    <tr>\n",
              "      <th>24982</th>\n",
              "      <td>Solta Minha Blusa</td>\n",
              "      <td>5i91iDdOjC7sexvXV3MlRc</td>\n",
              "      <td>117500</td>\n",
              "      <td>True</td>\n",
              "      <td>6</td>\n",
              "      <td>Autodomínio</td>\n",
              "      <td>2023</td>\n",
              "      <td>[pumapjl, SonoTWS]</td>\n",
              "      <td>0.2500</td>\n",
              "      <td>0.748</td>\n",
              "      <td>...</td>\n",
              "      <td>0.7630</td>\n",
              "      <td>pumapjl</td>\n",
              "      <td>[drill brasileiro, lo-fi brasileiro]</td>\n",
              "      <td>131.0</td>\n",
              "      <td>621401.0</td>\n",
              "      <td>6</td>\n",
              "      <td>488656</td>\n",
              "      <td>banho de mar, mano\\r qual foi?\\r banho de mar ...</td>\n",
              "      <td>[banho, de, mar, mano, qual, foi, banho, de, m...</td>\n",
              "      <td>pt</td>\n",
              "    </tr>\n",
              "    <tr>\n",
              "      <th>24983</th>\n",
              "      <td>Geralt Of Rivia</td>\n",
              "      <td>5tmhUzJuP7XwqCHglyqnt8</td>\n",
              "      <td>141993</td>\n",
              "      <td>False</td>\n",
              "      <td>5</td>\n",
              "      <td>The Witcher 3: Wild Hunt (Original Game Soundt...</td>\n",
              "      <td>2015</td>\n",
              "      <td>[Marcin Przybyłowicz]</td>\n",
              "      <td>0.4510</td>\n",
              "      <td>0.258</td>\n",
              "      <td>...</td>\n",
              "      <td>0.0651</td>\n",
              "      <td>Marcin Przybyłowicz</td>\n",
              "      <td>[video game music, orchestral soundtrack]</td>\n",
              "      <td>55.0</td>\n",
              "      <td>74381.0</td>\n",
              "      <td>5</td>\n",
              "      <td>74381</td>\n",
              "      <td>nan</td>\n",
              "      <td>[nan]</td>\n",
              "      <td>tl</td>\n",
              "    </tr>\n",
              "    <tr>\n",
              "      <th>24984</th>\n",
              "      <td>Turn Yo Clic Up (feat. Future)</td>\n",
              "      <td>7LTCmtMpf3JPfBE8gAl64z</td>\n",
              "      <td>230835</td>\n",
              "      <td>True</td>\n",
              "      <td>6</td>\n",
              "      <td>Turn Yo Clic Up (feat. Future)</td>\n",
              "      <td>2023</td>\n",
              "      <td>[Quavo, Future]</td>\n",
              "      <td>0.5770</td>\n",
              "      <td>0.869</td>\n",
              "      <td>...</td>\n",
              "      <td>0.6290</td>\n",
              "      <td>Future</td>\n",
              "      <td>[trap, hip hop, melodic rap, rap, atl hip hop,...</td>\n",
              "      <td>167.0</td>\n",
              "      <td>24938392.0</td>\n",
              "      <td>9</td>\n",
              "      <td>17492982</td>\n",
              "      <td>(i love you atake)  he want the scoop, she wan...</td>\n",
              "      <td>[love, atake, want, scoop, want, tea, want, te...</td>\n",
              "      <td>en</td>\n",
              "    </tr>\n",
              "  </tbody>\n",
              "</table>\n",
              "<p>5 rows × 29 columns</p>\n",
              "</div>"
            ],
            "text/plain": [
              "                           track_name                track_id  duration_ms  \\\n",
              "24980                         Dhadkan  3U3Z35w2bnRUJ1coau5Bgj       333532   \n",
              "24981                  Hold My Breath  6vmk2FBXwYiiicPUJ5lXuD       223384   \n",
              "24982               Solta Minha Blusa  5i91iDdOjC7sexvXV3MlRc       117500   \n",
              "24983                 Geralt Of Rivia  5tmhUzJuP7XwqCHglyqnt8       141993   \n",
              "24984  Turn Yo Clic Up (feat. Future)  7LTCmtMpf3JPfBE8gAl64z       230835   \n",
              "\n",
              "       explicit  popularity  \\\n",
              "24980     False           0   \n",
              "24981     False           3   \n",
              "24982      True           6   \n",
              "24983     False           5   \n",
              "24984      True           6   \n",
              "\n",
              "                                              album_name release_year  \\\n",
              "24980                                            Dhadkan         2023   \n",
              "24981                                     Hold My Breath         2022   \n",
              "24982                                        Autodomínio         2023   \n",
              "24983  The Witcher 3: Wild Hunt (Original Game Soundt...         2015   \n",
              "24984                     Turn Yo Clic Up (feat. Future)         2023   \n",
              "\n",
              "                artist_names  acousticness  danceability  ...  valence  \\\n",
              "24980              [Danny B]        0.1660         0.513  ...   0.3330   \n",
              "24981  [Paper Idol, ufo ufo]        0.0345         0.665  ...   0.4920   \n",
              "24982     [pumapjl, SonoTWS]        0.2500         0.748  ...   0.7630   \n",
              "24983  [Marcin Przybyłowicz]        0.4510         0.258  ...   0.0651   \n",
              "24984        [Quavo, Future]        0.5770         0.869  ...   0.6290   \n",
              "\n",
              "            popular_artist                                    combined_genres  \\\n",
              "24980              Danny B                                                 []   \n",
              "24981           Paper Idol                                           [la pop]   \n",
              "24982              pumapjl               [drill brasileiro, lo-fi brasileiro]   \n",
              "24983  Marcin Przybyłowicz          [video game music, orchestral soundtrack]   \n",
              "24984               Future  [trap, hip hop, melodic rap, rap, atl hip hop,...   \n",
              "\n",
              "       combined_popularity  combined_followers  artist_popularity  \\\n",
              "24980                 11.0             10575.0                  1   \n",
              "24981                 73.0             36868.0                  4   \n",
              "24982                131.0            621401.0                  6   \n",
              "24983                 55.0             74381.0                  5   \n",
              "24984                167.0          24938392.0                  9   \n",
              "\n",
              "       artist_followers                                             lyrics  \\\n",
              "24980             10575                                                nan   \n",
              "24981             22909  break down every single notion we had poetry i...   \n",
              "24982            488656  banho de mar, mano\\r qual foi?\\r banho de mar ...   \n",
              "24983             74381                                                nan   \n",
              "24984          17492982  (i love you atake)  he want the scoop, she wan...   \n",
              "\n",
              "                                        lyrics_tokenized  language  \n",
              "24980                                              [nan]        tl  \n",
              "24981  [break, every, single, notion, poetry, motion,...        en  \n",
              "24982  [banho, de, mar, mano, qual, foi, banho, de, m...        pt  \n",
              "24983                                              [nan]        tl  \n",
              "24984  [love, atake, want, scoop, want, tea, want, te...        en  \n",
              "\n",
              "[5 rows x 29 columns]"
            ]
          },
          "execution_count": 6,
          "metadata": {},
          "output_type": "execute_result"
        }
      ],
      "source": [
        "# processed data import\n",
        "data_processed = pd.read_pickle('data/data_processed.pkl')\n",
        "data_processed.tail()"
      ]
    },
    {
      "cell_type": "code",
      "execution_count": 7,
      "metadata": {
        "colab": {
          "base_uri": "https://localhost:8080/",
          "height": 206
        },
        "id": "SLTNGVYbv3MS",
        "outputId": "f11ec752-0dbd-40a9-bcc8-b24b94003f59"
      },
      "outputs": [
        {
          "data": {
            "text/html": [
              "<div>\n",
              "<style scoped>\n",
              "    .dataframe tbody tr th:only-of-type {\n",
              "        vertical-align: middle;\n",
              "    }\n",
              "\n",
              "    .dataframe tbody tr th {\n",
              "        vertical-align: top;\n",
              "    }\n",
              "\n",
              "    .dataframe thead th {\n",
              "        text-align: right;\n",
              "    }\n",
              "</style>\n",
              "<table border=\"1\" class=\"dataframe\">\n",
              "  <thead>\n",
              "    <tr style=\"text-align: right;\">\n",
              "      <th></th>\n",
              "      <th>acousticness</th>\n",
              "      <th>danceability</th>\n",
              "      <th>energy</th>\n",
              "      <th>instrumentalness</th>\n",
              "      <th>liveness</th>\n",
              "      <th>loudness</th>\n",
              "      <th>speechiness</th>\n",
              "      <th>tempo</th>\n",
              "      <th>valence</th>\n",
              "      <th>combined_popularity</th>\n",
              "      <th>combined_followers</th>\n",
              "    </tr>\n",
              "  </thead>\n",
              "  <tbody>\n",
              "    <tr>\n",
              "      <th>0</th>\n",
              "      <td>0.057430</td>\n",
              "      <td>0.136235</td>\n",
              "      <td>0.146999</td>\n",
              "      <td>0.000000</td>\n",
              "      <td>0.048692</td>\n",
              "      <td>0.166216</td>\n",
              "      <td>0.009521</td>\n",
              "      <td>0.098031</td>\n",
              "      <td>0.1508</td>\n",
              "      <td>0.009201</td>\n",
              "      <td>3.858337e-03</td>\n",
              "    </tr>\n",
              "    <tr>\n",
              "      <th>1</th>\n",
              "      <td>0.176305</td>\n",
              "      <td>0.093117</td>\n",
              "      <td>0.117998</td>\n",
              "      <td>0.000000</td>\n",
              "      <td>0.046278</td>\n",
              "      <td>0.138723</td>\n",
              "      <td>0.007208</td>\n",
              "      <td>0.131215</td>\n",
              "      <td>0.1924</td>\n",
              "      <td>0.001022</td>\n",
              "      <td>7.198260e-08</td>\n",
              "    </tr>\n",
              "    <tr>\n",
              "      <th>2</th>\n",
              "      <td>0.029920</td>\n",
              "      <td>0.193927</td>\n",
              "      <td>0.123599</td>\n",
              "      <td>0.000000</td>\n",
              "      <td>0.006841</td>\n",
              "      <td>0.152286</td>\n",
              "      <td>0.068958</td>\n",
              "      <td>0.088136</td>\n",
              "      <td>0.1754</td>\n",
              "      <td>0.008818</td>\n",
              "      <td>1.160673e-04</td>\n",
              "    </tr>\n",
              "    <tr>\n",
              "      <th>3</th>\n",
              "      <td>0.042570</td>\n",
              "      <td>0.129960</td>\n",
              "      <td>0.118998</td>\n",
              "      <td>0.001016</td>\n",
              "      <td>0.031388</td>\n",
              "      <td>0.153874</td>\n",
              "      <td>0.006563</td>\n",
              "      <td>0.083025</td>\n",
              "      <td>0.1148</td>\n",
              "      <td>0.006518</td>\n",
              "      <td>8.720968e-06</td>\n",
              "    </tr>\n",
              "    <tr>\n",
              "      <th>4</th>\n",
              "      <td>0.089759</td>\n",
              "      <td>0.139676</td>\n",
              "      <td>0.146199</td>\n",
              "      <td>0.000000</td>\n",
              "      <td>0.069014</td>\n",
              "      <td>0.165024</td>\n",
              "      <td>0.007354</td>\n",
              "      <td>0.093236</td>\n",
              "      <td>0.1138</td>\n",
              "      <td>0.008690</td>\n",
              "      <td>3.098709e-03</td>\n",
              "    </tr>\n",
              "  </tbody>\n",
              "</table>\n",
              "</div>"
            ],
            "text/plain": [
              "   acousticness  danceability    energy  instrumentalness  liveness  loudness  \\\n",
              "0      0.057430      0.136235  0.146999          0.000000  0.048692  0.166216   \n",
              "1      0.176305      0.093117  0.117998          0.000000  0.046278  0.138723   \n",
              "2      0.029920      0.193927  0.123599          0.000000  0.006841  0.152286   \n",
              "3      0.042570      0.129960  0.118998          0.001016  0.031388  0.153874   \n",
              "4      0.089759      0.139676  0.146199          0.000000  0.069014  0.165024   \n",
              "\n",
              "   speechiness     tempo  valence  combined_popularity  combined_followers  \n",
              "0     0.009521  0.098031   0.1508             0.009201        3.858337e-03  \n",
              "1     0.007208  0.131215   0.1924             0.001022        7.198260e-08  \n",
              "2     0.068958  0.088136   0.1754             0.008818        1.160673e-04  \n",
              "3     0.006563  0.083025   0.1148             0.006518        8.720968e-06  \n",
              "4     0.007354  0.093236   0.1138             0.008690        3.098709e-03  "
            ]
          },
          "execution_count": 7,
          "metadata": {},
          "output_type": "execute_result"
        }
      ],
      "source": [
        "# selecting float64 features\n",
        "float_cols = data_processed.dtypes[data_processed.dtypes == 'float64'].index.values\n",
        "\n",
        "# scale float columns with weightage of 0.2\n",
        "floats = data_processed[float_cols].reset_index(drop = True)\n",
        "scaler = MinMaxScaler()\n",
        "floats_scaled = pd.DataFrame(scaler.fit_transform(floats), columns = floats.columns) * 0.2\n",
        "\n",
        "floats_scaled.head()"
      ]
    },
    {
      "cell_type": "code",
      "execution_count": 8,
      "metadata": {
        "id": "zq0iCPcREhJM"
      },
      "outputs": [],
      "source": [
        "# function to create OHE features\n",
        "def ohe_prep(df, column, new_name):\n",
        "\n",
        "    tf_df = pd.get_dummies(df[column])\n",
        "    feature_names = tf_df.columns\n",
        "    tf_df.columns = [new_name + \" - \" + str(i) for i in feature_names]\n",
        "    tf_df.reset_index(drop = True, inplace = True)\n",
        "    return tf_df"
      ]
    },
    {
      "cell_type": "code",
      "execution_count": 9,
      "metadata": {
        "id": "ZTdzu_MvFJTU"
      },
      "outputs": [],
      "source": [
        "# function to vectorize genre lists\n",
        "def vectorize_genres(df):\n",
        "\n",
        "    vectorizer = TfidfVectorizer()\n",
        "\n",
        "    # convert lists into strings\n",
        "    genres_list = df['combined_genres'].apply(lambda x: ' '.join(x))\n",
        "    tfidf_matrix = vectorizer.fit_transform(genres_list)\n",
        "\n",
        "    genre_df = pd.DataFrame(tfidf_matrix.toarray())\n",
        "    genre_df.columns = [\"genre \" + \"- \" + i for i in vectorizer.get_feature_names_out()]\n",
        "    genre_df.reset_index(drop = True, inplace=True)\n",
        "\n",
        "    return genre_df"
      ]
    },
    {
      "cell_type": "code",
      "execution_count": 10,
      "metadata": {
        "id": "Y63JNReNF5x8"
      },
      "outputs": [],
      "source": [
        "# function to create feature set\n",
        "def create_features(df):\n",
        "\n",
        "  genre_df = vectorize_genres(df)\n",
        "\n",
        "  # ohe year and popularity and assign weights\n",
        "  year_df = ohe_prep(df, 'release_year', 'year') * 0.3\n",
        "  popularity_df = ohe_prep(df, 'popularity', 'popularity') * 0.2\n",
        "  artist_popularity_df = ohe_prep(df, 'artist_popularity', 'artist_popularity') * 0.1\n",
        "\n",
        "  # concatenate features\n",
        "  features = pd.concat([floats_scaled, genre_df, year_df, popularity_df, artist_popularity_df], axis=1)\n",
        "  features['track_id'] = data_processed['track_id'].values\n",
        "\n",
        "  return features"
      ]
    },
    {
      "cell_type": "code",
      "execution_count": 11,
      "metadata": {
        "colab": {
          "base_uri": "https://localhost:8080/",
          "height": 461
        },
        "id": "A3ecRff-HvPM",
        "outputId": "3a40ec7b-e04a-4201-9c4a-285f98af40c9"
      },
      "outputs": [
        {
          "data": {
            "text/html": [
              "<div>\n",
              "<style scoped>\n",
              "    .dataframe tbody tr th:only-of-type {\n",
              "        vertical-align: middle;\n",
              "    }\n",
              "\n",
              "    .dataframe tbody tr th {\n",
              "        vertical-align: top;\n",
              "    }\n",
              "\n",
              "    .dataframe thead th {\n",
              "        text-align: right;\n",
              "    }\n",
              "</style>\n",
              "<table border=\"1\" class=\"dataframe\">\n",
              "  <thead>\n",
              "    <tr style=\"text-align: right;\">\n",
              "      <th></th>\n",
              "      <th>acousticness</th>\n",
              "      <th>danceability</th>\n",
              "      <th>energy</th>\n",
              "      <th>instrumentalness</th>\n",
              "      <th>liveness</th>\n",
              "      <th>loudness</th>\n",
              "      <th>speechiness</th>\n",
              "      <th>tempo</th>\n",
              "      <th>valence</th>\n",
              "      <th>combined_popularity</th>\n",
              "      <th>...</th>\n",
              "      <th>artist_popularity - 2</th>\n",
              "      <th>artist_popularity - 3</th>\n",
              "      <th>artist_popularity - 4</th>\n",
              "      <th>artist_popularity - 5</th>\n",
              "      <th>artist_popularity - 6</th>\n",
              "      <th>artist_popularity - 7</th>\n",
              "      <th>artist_popularity - 8</th>\n",
              "      <th>artist_popularity - 9</th>\n",
              "      <th>artist_popularity - 10</th>\n",
              "      <th>track_id</th>\n",
              "    </tr>\n",
              "  </thead>\n",
              "  <tbody>\n",
              "    <tr>\n",
              "      <th>0</th>\n",
              "      <td>0.057430</td>\n",
              "      <td>0.136235</td>\n",
              "      <td>0.146999</td>\n",
              "      <td>0.000000</td>\n",
              "      <td>0.048692</td>\n",
              "      <td>0.166216</td>\n",
              "      <td>0.009521</td>\n",
              "      <td>0.098031</td>\n",
              "      <td>0.15080</td>\n",
              "      <td>0.009201</td>\n",
              "      <td>...</td>\n",
              "      <td>0.0</td>\n",
              "      <td>0.0</td>\n",
              "      <td>0.0</td>\n",
              "      <td>0.0</td>\n",
              "      <td>0.0</td>\n",
              "      <td>0.1</td>\n",
              "      <td>0.0</td>\n",
              "      <td>0.0</td>\n",
              "      <td>0.0</td>\n",
              "      <td>4ofwffwvvnbSkrMSCKQDaC</td>\n",
              "    </tr>\n",
              "    <tr>\n",
              "      <th>1</th>\n",
              "      <td>0.176305</td>\n",
              "      <td>0.093117</td>\n",
              "      <td>0.117998</td>\n",
              "      <td>0.000000</td>\n",
              "      <td>0.046278</td>\n",
              "      <td>0.138723</td>\n",
              "      <td>0.007208</td>\n",
              "      <td>0.131215</td>\n",
              "      <td>0.19240</td>\n",
              "      <td>0.001022</td>\n",
              "      <td>...</td>\n",
              "      <td>0.0</td>\n",
              "      <td>0.0</td>\n",
              "      <td>0.0</td>\n",
              "      <td>0.0</td>\n",
              "      <td>0.0</td>\n",
              "      <td>0.0</td>\n",
              "      <td>0.0</td>\n",
              "      <td>0.0</td>\n",
              "      <td>0.0</td>\n",
              "      <td>2ssvA9HSGxaWAek1S2afbH</td>\n",
              "    </tr>\n",
              "    <tr>\n",
              "      <th>2</th>\n",
              "      <td>0.029920</td>\n",
              "      <td>0.193927</td>\n",
              "      <td>0.123599</td>\n",
              "      <td>0.000000</td>\n",
              "      <td>0.006841</td>\n",
              "      <td>0.152286</td>\n",
              "      <td>0.068958</td>\n",
              "      <td>0.088136</td>\n",
              "      <td>0.17540</td>\n",
              "      <td>0.008818</td>\n",
              "      <td>...</td>\n",
              "      <td>0.0</td>\n",
              "      <td>0.0</td>\n",
              "      <td>0.1</td>\n",
              "      <td>0.0</td>\n",
              "      <td>0.0</td>\n",
              "      <td>0.0</td>\n",
              "      <td>0.0</td>\n",
              "      <td>0.0</td>\n",
              "      <td>0.0</td>\n",
              "      <td>0khhnIB1aqU6emDCXONkQD</td>\n",
              "    </tr>\n",
              "    <tr>\n",
              "      <th>3</th>\n",
              "      <td>0.042570</td>\n",
              "      <td>0.129960</td>\n",
              "      <td>0.118998</td>\n",
              "      <td>0.001016</td>\n",
              "      <td>0.031388</td>\n",
              "      <td>0.153874</td>\n",
              "      <td>0.006563</td>\n",
              "      <td>0.083025</td>\n",
              "      <td>0.11480</td>\n",
              "      <td>0.006518</td>\n",
              "      <td>...</td>\n",
              "      <td>0.0</td>\n",
              "      <td>0.0</td>\n",
              "      <td>0.0</td>\n",
              "      <td>0.1</td>\n",
              "      <td>0.0</td>\n",
              "      <td>0.0</td>\n",
              "      <td>0.0</td>\n",
              "      <td>0.0</td>\n",
              "      <td>0.0</td>\n",
              "      <td>5erH8ainax63isS82Ahoty</td>\n",
              "    </tr>\n",
              "    <tr>\n",
              "      <th>4</th>\n",
              "      <td>0.089759</td>\n",
              "      <td>0.139676</td>\n",
              "      <td>0.146199</td>\n",
              "      <td>0.000000</td>\n",
              "      <td>0.069014</td>\n",
              "      <td>0.165024</td>\n",
              "      <td>0.007354</td>\n",
              "      <td>0.093236</td>\n",
              "      <td>0.11380</td>\n",
              "      <td>0.008690</td>\n",
              "      <td>...</td>\n",
              "      <td>0.0</td>\n",
              "      <td>0.0</td>\n",
              "      <td>0.0</td>\n",
              "      <td>0.0</td>\n",
              "      <td>0.1</td>\n",
              "      <td>0.0</td>\n",
              "      <td>0.0</td>\n",
              "      <td>0.0</td>\n",
              "      <td>0.0</td>\n",
              "      <td>01mw8dztHKWqzhCySgKllc</td>\n",
              "    </tr>\n",
              "    <tr>\n",
              "      <th>...</th>\n",
              "      <td>...</td>\n",
              "      <td>...</td>\n",
              "      <td>...</td>\n",
              "      <td>...</td>\n",
              "      <td>...</td>\n",
              "      <td>...</td>\n",
              "      <td>...</td>\n",
              "      <td>...</td>\n",
              "      <td>...</td>\n",
              "      <td>...</td>\n",
              "      <td>...</td>\n",
              "      <td>...</td>\n",
              "      <td>...</td>\n",
              "      <td>...</td>\n",
              "      <td>...</td>\n",
              "      <td>...</td>\n",
              "      <td>...</td>\n",
              "      <td>...</td>\n",
              "      <td>...</td>\n",
              "      <td>...</td>\n",
              "      <td>...</td>\n",
              "    </tr>\n",
              "    <tr>\n",
              "      <th>24980</th>\n",
              "      <td>0.033333</td>\n",
              "      <td>0.103846</td>\n",
              "      <td>0.097998</td>\n",
              "      <td>0.000000</td>\n",
              "      <td>0.040644</td>\n",
              "      <td>0.153585</td>\n",
              "      <td>0.015771</td>\n",
              "      <td>0.067641</td>\n",
              "      <td>0.06660</td>\n",
              "      <td>0.001406</td>\n",
              "      <td>...</td>\n",
              "      <td>0.0</td>\n",
              "      <td>0.0</td>\n",
              "      <td>0.0</td>\n",
              "      <td>0.0</td>\n",
              "      <td>0.0</td>\n",
              "      <td>0.0</td>\n",
              "      <td>0.0</td>\n",
              "      <td>0.0</td>\n",
              "      <td>0.0</td>\n",
              "      <td>3U3Z35w2bnRUJ1coau5Bgj</td>\n",
              "    </tr>\n",
              "    <tr>\n",
              "      <th>24981</th>\n",
              "      <td>0.006928</td>\n",
              "      <td>0.134615</td>\n",
              "      <td>0.136599</td>\n",
              "      <td>0.000514</td>\n",
              "      <td>0.065594</td>\n",
              "      <td>0.159401</td>\n",
              "      <td>0.010208</td>\n",
              "      <td>0.110119</td>\n",
              "      <td>0.09840</td>\n",
              "      <td>0.009329</td>\n",
              "      <td>...</td>\n",
              "      <td>0.0</td>\n",
              "      <td>0.0</td>\n",
              "      <td>0.1</td>\n",
              "      <td>0.0</td>\n",
              "      <td>0.0</td>\n",
              "      <td>0.0</td>\n",
              "      <td>0.0</td>\n",
              "      <td>0.0</td>\n",
              "      <td>0.0</td>\n",
              "      <td>6vmk2FBXwYiiicPUJ5lXuD</td>\n",
              "    </tr>\n",
              "    <tr>\n",
              "      <th>24982</th>\n",
              "      <td>0.050201</td>\n",
              "      <td>0.151417</td>\n",
              "      <td>0.148199</td>\n",
              "      <td>0.000000</td>\n",
              "      <td>0.027163</td>\n",
              "      <td>0.155850</td>\n",
              "      <td>0.026458</td>\n",
              "      <td>0.081317</td>\n",
              "      <td>0.15260</td>\n",
              "      <td>0.016741</td>\n",
              "      <td>...</td>\n",
              "      <td>0.0</td>\n",
              "      <td>0.0</td>\n",
              "      <td>0.0</td>\n",
              "      <td>0.0</td>\n",
              "      <td>0.1</td>\n",
              "      <td>0.0</td>\n",
              "      <td>0.0</td>\n",
              "      <td>0.0</td>\n",
              "      <td>0.0</td>\n",
              "      <td>5i91iDdOjC7sexvXV3MlRc</td>\n",
              "    </tr>\n",
              "    <tr>\n",
              "      <th>24983</th>\n",
              "      <td>0.090562</td>\n",
              "      <td>0.052227</td>\n",
              "      <td>0.113798</td>\n",
              "      <td>0.191200</td>\n",
              "      <td>0.022133</td>\n",
              "      <td>0.138908</td>\n",
              "      <td>0.010625</td>\n",
              "      <td>0.072005</td>\n",
              "      <td>0.01302</td>\n",
              "      <td>0.007029</td>\n",
              "      <td>...</td>\n",
              "      <td>0.0</td>\n",
              "      <td>0.0</td>\n",
              "      <td>0.0</td>\n",
              "      <td>0.1</td>\n",
              "      <td>0.0</td>\n",
              "      <td>0.0</td>\n",
              "      <td>0.0</td>\n",
              "      <td>0.0</td>\n",
              "      <td>0.0</td>\n",
              "      <td>5tmhUzJuP7XwqCHglyqnt8</td>\n",
              "    </tr>\n",
              "    <tr>\n",
              "      <th>24984</th>\n",
              "      <td>0.115863</td>\n",
              "      <td>0.175911</td>\n",
              "      <td>0.111398</td>\n",
              "      <td>0.000000</td>\n",
              "      <td>0.027968</td>\n",
              "      <td>0.158039</td>\n",
              "      <td>0.080000</td>\n",
              "      <td>0.105808</td>\n",
              "      <td>0.12580</td>\n",
              "      <td>0.021342</td>\n",
              "      <td>...</td>\n",
              "      <td>0.0</td>\n",
              "      <td>0.0</td>\n",
              "      <td>0.0</td>\n",
              "      <td>0.0</td>\n",
              "      <td>0.0</td>\n",
              "      <td>0.0</td>\n",
              "      <td>0.0</td>\n",
              "      <td>0.1</td>\n",
              "      <td>0.0</td>\n",
              "      <td>7LTCmtMpf3JPfBE8gAl64z</td>\n",
              "    </tr>\n",
              "  </tbody>\n",
              "</table>\n",
              "<p>24985 rows × 1939 columns</p>\n",
              "</div>"
            ],
            "text/plain": [
              "       acousticness  danceability    energy  instrumentalness  liveness  \\\n",
              "0          0.057430      0.136235  0.146999          0.000000  0.048692   \n",
              "1          0.176305      0.093117  0.117998          0.000000  0.046278   \n",
              "2          0.029920      0.193927  0.123599          0.000000  0.006841   \n",
              "3          0.042570      0.129960  0.118998          0.001016  0.031388   \n",
              "4          0.089759      0.139676  0.146199          0.000000  0.069014   \n",
              "...             ...           ...       ...               ...       ...   \n",
              "24980      0.033333      0.103846  0.097998          0.000000  0.040644   \n",
              "24981      0.006928      0.134615  0.136599          0.000514  0.065594   \n",
              "24982      0.050201      0.151417  0.148199          0.000000  0.027163   \n",
              "24983      0.090562      0.052227  0.113798          0.191200  0.022133   \n",
              "24984      0.115863      0.175911  0.111398          0.000000  0.027968   \n",
              "\n",
              "       loudness  speechiness     tempo  valence  combined_popularity  ...  \\\n",
              "0      0.166216     0.009521  0.098031  0.15080             0.009201  ...   \n",
              "1      0.138723     0.007208  0.131215  0.19240             0.001022  ...   \n",
              "2      0.152286     0.068958  0.088136  0.17540             0.008818  ...   \n",
              "3      0.153874     0.006563  0.083025  0.11480             0.006518  ...   \n",
              "4      0.165024     0.007354  0.093236  0.11380             0.008690  ...   \n",
              "...         ...          ...       ...      ...                  ...  ...   \n",
              "24980  0.153585     0.015771  0.067641  0.06660             0.001406  ...   \n",
              "24981  0.159401     0.010208  0.110119  0.09840             0.009329  ...   \n",
              "24982  0.155850     0.026458  0.081317  0.15260             0.016741  ...   \n",
              "24983  0.138908     0.010625  0.072005  0.01302             0.007029  ...   \n",
              "24984  0.158039     0.080000  0.105808  0.12580             0.021342  ...   \n",
              "\n",
              "       artist_popularity - 2  artist_popularity - 3  artist_popularity - 4  \\\n",
              "0                        0.0                    0.0                    0.0   \n",
              "1                        0.0                    0.0                    0.0   \n",
              "2                        0.0                    0.0                    0.1   \n",
              "3                        0.0                    0.0                    0.0   \n",
              "4                        0.0                    0.0                    0.0   \n",
              "...                      ...                    ...                    ...   \n",
              "24980                    0.0                    0.0                    0.0   \n",
              "24981                    0.0                    0.0                    0.1   \n",
              "24982                    0.0                    0.0                    0.0   \n",
              "24983                    0.0                    0.0                    0.0   \n",
              "24984                    0.0                    0.0                    0.0   \n",
              "\n",
              "       artist_popularity - 5  artist_popularity - 6  artist_popularity - 7  \\\n",
              "0                        0.0                    0.0                    0.1   \n",
              "1                        0.0                    0.0                    0.0   \n",
              "2                        0.0                    0.0                    0.0   \n",
              "3                        0.1                    0.0                    0.0   \n",
              "4                        0.0                    0.1                    0.0   \n",
              "...                      ...                    ...                    ...   \n",
              "24980                    0.0                    0.0                    0.0   \n",
              "24981                    0.0                    0.0                    0.0   \n",
              "24982                    0.0                    0.1                    0.0   \n",
              "24983                    0.1                    0.0                    0.0   \n",
              "24984                    0.0                    0.0                    0.0   \n",
              "\n",
              "       artist_popularity - 8  artist_popularity - 9  artist_popularity - 10  \\\n",
              "0                        0.0                    0.0                     0.0   \n",
              "1                        0.0                    0.0                     0.0   \n",
              "2                        0.0                    0.0                     0.0   \n",
              "3                        0.0                    0.0                     0.0   \n",
              "4                        0.0                    0.0                     0.0   \n",
              "...                      ...                    ...                     ...   \n",
              "24980                    0.0                    0.0                     0.0   \n",
              "24981                    0.0                    0.0                     0.0   \n",
              "24982                    0.0                    0.0                     0.0   \n",
              "24983                    0.0                    0.0                     0.0   \n",
              "24984                    0.0                    0.1                     0.0   \n",
              "\n",
              "                     track_id  \n",
              "0      4ofwffwvvnbSkrMSCKQDaC  \n",
              "1      2ssvA9HSGxaWAek1S2afbH  \n",
              "2      0khhnIB1aqU6emDCXONkQD  \n",
              "3      5erH8ainax63isS82Ahoty  \n",
              "4      01mw8dztHKWqzhCySgKllc  \n",
              "...                       ...  \n",
              "24980  3U3Z35w2bnRUJ1coau5Bgj  \n",
              "24981  6vmk2FBXwYiiicPUJ5lXuD  \n",
              "24982  5i91iDdOjC7sexvXV3MlRc  \n",
              "24983  5tmhUzJuP7XwqCHglyqnt8  \n",
              "24984  7LTCmtMpf3JPfBE8gAl64z  \n",
              "\n",
              "[24985 rows x 1939 columns]"
            ]
          },
          "execution_count": 11,
          "metadata": {},
          "output_type": "execute_result"
        }
      ],
      "source": [
        "# vectorized, scaled, ohe'd data\n",
        "feature_set = create_features(data_processed)\n",
        "feature_set"
      ]
    },
    {
      "cell_type": "code",
      "execution_count": 12,
      "metadata": {
        "colab": {
          "base_uri": "https://localhost:8080/"
        },
        "id": "KXuNvLkUHzbs",
        "outputId": "b99a4b61-3f1b-4ff5-d01a-897421338558"
      },
      "outputs": [
        {
          "name": "stdout",
          "output_type": "stream",
          "text": [
            "['acousticness', 'danceability', 'energy', 'instrumentalness', 'liveness', 'loudness', 'speechiness', 'tempo', 'valence', 'combined_popularity', 'combined_followers', 'genre - 150', 'genre - 21st', 'genre - 420', 'genre - 528hz', 'genre - 5th', 'genre - 8d', 'genre - abstract', 'genre - accordion', 'genre - acid', 'genre - acidcore', 'genre - acoustic', 'genre - adoracao', 'genre - adult', 'genre - adventista', 'genre - advocacy', 'genre - aesthetic', 'genre - afghan', 'genre - african', 'genre - afrikaans', 'genre - afro', 'genre - afrobeat', 'genre - afrobeats', 'genre - afrocolombiano', 'genre - afrofuturism', 'genre - afrofuturismo', 'genre - afropop', 'genre - afroswing', 'genre - age', 'genre - aggressive', 'genre - aggrotech', 'genre - agronejo', 'genre - aguascalentense', 'genre - ahead', 'genre - ai', 'genre - alabama', 'genre - alagoana', 'genre - alagoano', 'genre - alaska', 'genre - albanian', 'genre - alberta', 'genre - album', 'genre - algerien', 'genre - alley', 'genre - alpine', 'genre - alpini', 'genre - alt', 'genre - alte', 'genre - alternative', 'genre - alternativo', 'genre - alternativos', 'genre - alto', 'genre - amapiano', 'genre - ambeat', 'genre - ambient', 'genre - american', 'genre - americana', 'genre - anadolu', 'genre - anak', 'genre - anarcho', 'genre - and', 'genre - anglican', 'genre - angolana', 'genre - angolano', 'genre - animati', 'genre - anime', 'genre - ann', 'genre - anthem', 'genre - anti', 'genre - antideutsche', 'genre - antigas', 'genre - antigo', 'genre - antigua', 'genre - antillais', 'genre - antiviral', 'genre - antonio', 'genre - apostolic', 'genre - appalachian', 'genre - arab', 'genre - arabesk', 'genre - arabic', 'genre - arbor', 'genre - area', 'genre - arena', 'genre - argentina', 'genre - argentine', 'genre - argentino', 'genre - arkansas', 'genre - armenian', 'genre - arrocha', 'genre - arrochadeira', 'genre - art', 'genre - arunachal', 'genre - asakaa', 'genre - asbury', 'genre - asian', 'genre - asmr', 'genre - athens', 'genre - atl', 'genre - atlanta', 'genre - atmospheric', 'genre - auckland', 'genre - aussie', 'genre - aussietronica', 'genre - austin', 'genre - austindie', 'genre - australian', 'genre - austrian', 'genre - austropop', 'genre - auteur', 'genre - autonomous', 'genre - autore', 'genre - avant', 'genre - axe', 'genre - azeri', 'genre - azonto', 'genre - azontobeats', 'genre - bachata', 'genre - background', 'genre - backing', 'genre - baglama', 'genre - bagpipe', 'genre - bahai', 'genre - baiano', 'genre - baiao', 'genre - bailando', 'genre - baile', 'genre - baixada', 'genre - bajacaliforniana', 'genre - bajki', 'genre - bakersfield', 'genre - balalaika', 'genre - balearic', 'genre - balinese', 'genre - balkan', 'genre - ballad', 'genre - ballet', 'genre - ballroom', 'genre - balochi', 'genre - baltimore', 'genre - bambini', 'genre - band', 'genre - banda', 'genre - bandinhas', 'genre - bandung', 'genre - bangla', 'genre - bangladeshi', 'genre - banjo', 'genre - bap', 'genre - barbadian', 'genre - barbershop', 'genre - barcadi', 'genre - bard', 'genre - bardcore', 'genre - baritone', 'genre - barnmusik', 'genre - baroque', 'genre - bases', 'genre - bass', 'genre - basshall', 'genre - bassline', 'genre - bath', 'genre - batida', 'genre - batidao', 'genre - baton', 'genre - battle', 'genre - bay', 'genre - bayerischer', 'genre - bboy', 'genre - bc', 'genre - beat', 'genre - beatboxing', 'genre - beatlesque', 'genre - beats', 'genre - bebop', 'genre - bedroom', 'genre - belarusian', 'genre - belge', 'genre - belgian', 'genre - belicos', 'genre - belly', 'genre - belo', 'genre - bemani', 'genre - bengali', 'genre - bergamo', 'genre - bergen', 'genre - beul', 'genre - bh', 'genre - bhajan', 'genre - bhangra', 'genre - bhojpuri', 'genre - big', 'genre - binaural', 'genre - birmingham', 'genre - birthday', 'genre - bisericeasca', 'genre - bit', 'genre - bitpop', 'genre - black', 'genre - blackened', 'genre - blackgaze', 'genre - bleakgaze', 'genre - bluegrass', 'genre - blues', 'genre - boeremusiek', 'genre - bolero', 'genre - boliviano', 'genre - bollywood', 'genre - bongo', 'genre - boogie', 'genre - boom', 'genre - bop', 'genre - boricua', 'genre - bosnian', 'genre - bossa', 'genre - bossbeat', 'genre - boston', 'genre - bounce', 'genre - bouncy', 'genre - bouyon', 'genre - bow', 'genre - bowl', 'genre - box', 'genre - boy', 'genre - bozlak', 'genre - bpm', 'genre - braindance', 'genre - brasileira', 'genre - brasileiro', 'genre - brasileiros', 'genre - brasiliense', 'genre - brass', 'genre - brazilian', 'genre - breakbeat', 'genre - breakcore', 'genre - breaks', 'genre - brega', 'genre - brighton', 'genre - brill', 'genre - brisbane', 'genre - brit', 'genre - british', 'genre - britpop', 'genre - broadway', 'genre - broken', 'genre - bronx', 'genre - brooklyn', 'genre - brostep', 'genre - brutal', 'genre - bubble', 'genre - bubblegrunge', 'genre - bubblegum', 'genre - buffalo', 'genre - building', 'genre - bulgarian', 'genre - bullerengue', 'genre - burmese', 'genre - c86', 'genre - cabaret', 'genre - cabo', 'genre - cadence', 'genre - caipira', 'genre - calabrese', 'genre - cali', 'genre - caliente', 'genre - california', 'genre - calme', 'genre - calming', 'genre - calypso', 'genre - cambodian', 'genre - cambridge', 'genre - canadian', 'genre - canaria', 'genre - canario', 'genre - cancion', 'genre - cancoes', 'genre - candy', 'genre - cantaditas', 'genre - cantautor', 'genre - cantautora', 'genre - canti', 'genre - cantopop', 'genre - canzone', 'genre - cape', 'genre - capella', 'genre - capixaba', 'genre - cappella', 'genre - cardiff', 'genre - carimbo', 'genre - carioca', 'genre - carnatic', 'genre - carnaval', 'genre - carnavalera', 'genre - carolina', 'genre - cartoni', 'genre - cartoon', 'genre - catala', 'genre - catalana', 'genre - catarinense', 'genre - cathedral', 'genre - caucasian', 'genre - ccm', 'genre - cdo', 'genre - cearense', 'genre - cello', 'genre - celtic', 'genre - central', 'genre - century', 'genre - chakra', 'genre - chalga', 'genre - chamber', 'genre - chamorro', 'genre - champeta', 'genre - channel', 'genre - chanson', 'genre - chant', 'genre - charva', 'genre - chattanooga', 'genre - chicago', 'genre - chicano', 'genre - chicha', 'genre - chihuahua', 'genre - chihuahuense', 'genre - children', 'genre - chilean', 'genre - chilena', 'genre - chileno', 'genre - chill', 'genre - chillhop', 'genre - chillstep', 'genre - chillsynth', 'genre - chillwave', 'genre - chinese', 'genre - chiptune', 'genre - choir', 'genre - chopped', 'genre - choral', 'genre - chorus', 'genre - christchurch', 'genre - christian', 'genre - christmas', 'genre - chutney', 'genre - city', 'genre - claire', 'genre - clasicos', 'genre - class', 'genre - classic', 'genre - classical', 'genre - classify', 'genre - cloud', 'genre - club', 'genre - clubbing', 'genre - coahuilense', 'genre - coast', 'genre - cocuk', 'genre - collage', 'genre - cologne', 'genre - colombian', 'genre - colombiana', 'genre - colombiano', 'genre - color', 'genre - comedia', 'genre - comedy', 'genre - comic', 'genre - commons', 'genre - comorienne', 'genre - complextro', 'genre - compositeur', 'genre - compositional', 'genre - concert', 'genre - conciencia', 'genre - congolaise', 'genre - congolese', 'genre - connecticut', 'genre - conscient', 'genre - consciente', 'genre - conscious', 'genre - contemporary', 'genre - contrabass', 'genre - contralto', 'genre - cool', 'genre - copii', 'genre - core', 'genre - corecore', 'genre - cornwall', 'genre - corrido', 'genre - corridos', 'genre - corrosion', 'genre - cosmic', 'genre - costena', 'genre - countertenor', 'genre - country', 'genre - countrygaze', 'genre - cover', 'genre - coverchill', 'genre - covertrance', 'genre - covertronica', 'genre - cowboy', 'genre - cowpunk', 'genre - crank', 'genre - crestina', 'genre - criancas', 'genre - criolo', 'genre - cristao', 'genre - cristiana', 'genre - cristiano', 'genre - cristianos', 'genre - croatian', 'genre - crossover', 'genre - crunk', 'genre - cuarteto', 'genre - cubaton', 'genre - cumbia', 'genre - curitibano', 'genre - cv', 'genre - cyberpunk', 'genre - cypriot', 'genre - czech', 'genre - czsk', 'genre - da', 'genre - dabke', 'genre - dance', 'genre - dancefloor', 'genre - dancehall', 'genre - dangdut', 'genre - danish', 'genre - dansband', 'genre - danseband', 'genre - dansk', 'genre - dansktop', 'genre - danspunk', 'genre - darbuka', 'genre - dariacore', 'genre - dark', 'genre - darkstep', 'genre - darksynth', 'genre - darkwave', 'genre - das', 'genre - dawn', 'genre - dayton', 'genre - dc', 'genre - de', 'genre - death', 'genre - deathcore', 'genre - deathgrass', 'genre - deathgrind', 'genre - deathstep', 'genre - deboxe', 'genre - dechovka', 'genre - decije', 'genre - deconstructed', 'genre - deep', 'genre - del', 'genre - delhi', 'genre - delta', 'genre - dembow', 'genre - dennery', 'genre - denpa', 'genre - denver', 'genre - depressive', 'genre - desert', 'genre - desi', 'genre - dessin', 'genre - detroit', 'genre - detske', 'genre - detskie', 'genre - deutsche', 'genre - deutschrap', 'genre - devon', 'genre - devotional', 'genre - df', 'genre - dfw', 'genre - didgeridoo', 'genre - diego', 'genre - digital', 'genre - dinner', 'genre - dirt', 'genre - dirty', 'genre - disco', 'genre - discofox', 'genre - diva', 'genre - division', 'genre - dixieland', 'genre - diy', 'genre - djent', 'genre - dmv', 'genre - dnb', 'genre - do', 'genre - dombra', 'genre - dominican', 'genre - dominicana', 'genre - dominicano', 'genre - dong', 'genre - doo', 'genre - doom', 'genre - doomcore', 'genre - double', 'genre - doujin', 'genre - downtempo', 'genre - draga', 'genre - drain', 'genre - drama', 'genre - dream', 'genre - dreamo', 'genre - dreampunk', 'genre - drift', 'genre - drill', 'genre - driving', 'genre - drone', 'genre - dronescape', 'genre - drum', 'genre - drumfunk', 'genre - drumless', 'genre - drumming', 'genre - drums', 'genre - dub', 'genre - dubstep', 'genre - dubsteppe', 'genre - duduk', 'genre - dulcimer', 'genre - dungeon', 'genre - dunk', 'genre - duo', 'genre - duranguense', 'genre - dusseldorf', 'genre - dutch', 'genre - dzieciecy', 'genre - early', 'genre - earth', 'genre - east', 'genre - eastern', 'genre - easy', 'genre - easycore', 'genre - eau', 'genre - ebm', 'genre - ecm', 'genre - ectofolk', 'genre - ecuadorian', 'genre - edge', 'genre - editada', 'genre - edm', 'genre - edmonton', 'genre - effects', 'genre - egyptian', 'genre - el', 'genre - electra', 'genre - electric', 'genre - electro', 'genre - electroclash', 'genre - electrofox', 'genre - electronic', 'genre - electronica', 'genre - electronico', 'genre - electropop', 'genre - electropowerpop', 'genre - elephant', 'genre - eletronica', 'genre - emo', 'genre - emocore', 'genre - emoplugg', 'genre - en', 'genre - enfants', 'genre - england', 'genre - english', 'genre - enka', 'genre - enredo', 'genre - ensemble', 'genre - entehno', 'genre - environmental', 'genre - epa', 'genre - epicore', 'genre - epunk', 'genre - era', 'genre - erhu', 'genre - erotic', 'genre - erotica', 'genre - escape', 'genre - espanol', 'genre - estonian', 'genre - ethereal', 'genre - etherpop', 'genre - ethiopian', 'genre - ethnotronica', 'genre - euphoric', 'genre - euro', 'genre - eurobeat', 'genre - eurodance', 'genre - europop', 'genre - evangelico', 'genre - exotica', 'genre - experimental', 'genre - extratone', 'genre - fado', 'genre - fake', 'genre - fam', 'genre - fan', 'genre - fantasy', 'genre - faroese', 'genre - favela', 'genre - femenil', 'genre - femenino', 'genre - feminino', 'genre - feng', 'genre - festigal', 'genre - fi', 'genre - fidget', 'genre - field', 'genre - filmi', 'genre - filter', 'genre - filthstep', 'genre - finnish', 'genre - flamenco', 'genre - flava', 'genre - flint', 'genre - float', 'genre - florida', 'genre - flow', 'genre - fluminense', 'genre - flutter', 'genre - fluxwork', 'genre - focus', 'genre - folclor', 'genre - folclore', 'genre - folk', 'genre - folklore', 'genre - folktronica', 'genre - fondo', 'genre - football', 'genre - forro', 'genre - fotbollslatar', 'genre - fourth', 'genre - francais', 'genre - francaise', 'genre - frauenrap', 'genre - free', 'genre - freeform', 'genre - freestyle', 'genre - french', 'genre - frenchcore', 'genre - fuji', 'genre - full', 'genre - funana', 'genre - funeral', 'genre - funk', 'genre - funktronica', 'genre - funky', 'genre - furry', 'genre - fusion', 'genre - fussball', 'genre - future', 'genre - futurepop', 'genre - futuristic', 'genre - fvnky', 'genre - gabber', 'genre - gaian', 'genre - gaita', 'genre - galante', 'genre - galicia', 'genre - gamba', 'genre - gambian', 'genre - game', 'genre - gamecore', 'genre - gamelan', 'genre - gaming', 'genre - gangsta', 'genre - gangster', 'genre - garage', 'genre - garba', 'genre - garde', 'genre - garhwali', 'genre - gaucha', 'genre - gaucho', 'genre - gauze', 'genre - gaze', 'genre - geek', 'genre - geinin', 'genre - gen', 'genre - genovese', 'genre - georgian', 'genre - german', 'genre - ghanaian', 'genre - ghazal', 'genre - ghent', 'genre - ghettotech', 'genre - girl', 'genre - glam', 'genre - glasgow', 'genre - glee', 'genre - glitch', 'genre - glitchbreak', 'genre - glitchcore', 'genre - goa', 'genre - gogeo', 'genre - gojol', 'genre - gold', 'genre - golden', 'genre - gong', 'genre - goralski', 'genre - goregrind', 'genre - gospel', 'genre - goth', 'genre - gothabilly', 'genre - gothenburg', 'genre - gothic', 'genre - gouyad', 'genre - gqom', 'genre - grand', 'genre - grande', 'genre - grave', 'genre - grebo', 'genre - greek', 'genre - gregorian', 'genre - grime', 'genre - grimewave', 'genre - grindcore', 'genre - groove', 'genre - grossense', 'genre - group', 'genre - grrrl', 'genre - grunge', 'genre - grungegaze', 'genre - grupera', 'genre - gruperas', 'genre - grupero', 'genre - guadeloupe', 'genre - guam', 'genre - guaracha', 'genre - guarda', 'genre - guarulhense', 'genre - guitar', 'genre - guitarra', 'genre - gujarati', 'genre - gulf', 'genre - gurdy', 'genre - gwoka', 'genre - gym', 'genre - gymcore', 'genre - gypsy', 'genre - hall', 'genre - halloween', 'genre - hamburg', 'genre - handpan', 'genre - hands', 'genre - happy', 'genre - hard', 'genre - hardcore', 'genre - hardstyle', 'genre - hardtekk', 'genre - hardvapour', 'genre - hardwave', 'genre - hare', 'genre - harlem', 'genre - harmonica', 'genre - harmony', 'genre - harp', 'genre - harpsichord', 'genre - harte', 'genre - haryanvi', 'genre - hauntology', 'genre - havasi', 'genre - hawaiian', 'genre - healing', 'genre - heartland', 'genre - heavy', 'genre - hel', 'genre - hexd', 'genre - hi', 'genre - high', 'genre - himachali', 'genre - hindi', 'genre - hindustani', 'genre - hip', 'genre - hiplife', 'genre - historic', 'genre - historically', 'genre - hjemmesnekk', 'genre - hk', 'genre - hmong', 'genre - holler', 'genre - hollywood', 'genre - hong', 'genre - honky', 'genre - hop', 'genre - hopebeat', 'genre - horizonte', 'genre - horror', 'genre - horrorcore', 'genre - house', 'genre - houston', 'genre - humoristique', 'genre - humppa', 'genre - hungarian', 'genre - hurdy', 'genre - huzunlu', 'genre - hyper', 'genre - hyperpop', 'genre - hypertechno', 'genre - hyphy', 'genre - hypnagogic', 'genre - hz', 'genre - icelandic', 'genre - icm', 'genre - idaho', 'genre - idm', 'genre - idol', 'genre - igbo', 'genre - ilahiler', 'genre - impressionism', 'genre - inde', 'genre - independant', 'genre - indian', 'genre - indiana', 'genre - indie', 'genre - indiecoustica', 'genre - indietronica', 'genre - indo', 'genre - indonesian', 'genre - industrial', 'genre - indy', 'genre - infantil', 'genre - infantis', 'genre - informed', 'genre - inmortales', 'genre - instrumental', 'genre - intelligent', 'genre - international', 'genre - interprete', 'genre - invasion', 'genre - iranian', 'genre - iraqi', 'genre - irish', 'genre - iskelma', 'genre - islamic', 'genre - island', 'genre - islands', 'genre - isolationism', 'genre - israeli', 'genre - israelite', 'genre - istmena', 'genre - italian', 'genre - italiana', 'genre - italiano', 'genre - italo', 'genre - izvorna', 'genre - jack', 'genre - jalisciense', 'genre - jalsat', 'genre - jam', 'genre - jamaican', 'genre - jamtronica', 'genre - jangle', 'genre - japanese', 'genre - japanoise', 'genre - javanese', 'genre - jawaiian', 'genre - jazz', 'genre - jazzcore', 'genre - jazzhop', 'genre - jazztronica', 'genre - jersey', 'genre - jewish', 'genre - josei', 'genre - jovem', 'genre - judaica', 'genre - jugu', 'genre - jump', 'genre - jumpstyle', 'genre - jungle', 'genre - kabarett', 'genre - kabyle', 'genre - kadin', 'genre - kaneka', 'genre - kannada', 'genre - kansas', 'genre - karadeniz', 'genre - karaoke', 'genre - karneval', 'genre - kashmiri', 'genre - kasi', 'genre - kavkaz', 'genre - kawaii', 'genre - kayo', 'genre - kayokyoku', 'genre - kazakh', 'genre - kei', 'genre - kelowna', 'genre - kent', 'genre - kentucky', 'genre - kenyan', 'genre - kermis', 'genre - keyboard', 'genre - khaleeji', 'genre - khaliji', 'genre - khayal', 'genre - khmer', 'genre - khortha', 'genre - kids', 'genre - kinderen', 'genre - kindermusik', 'genre - kindie', 'genre - kinshasa', 'genre - kirtan', 'genre - kiwi', 'genre - kiz', 'genre - kizomba', 'genre - klapa', 'genre - klubowe', 'genre - kokborok', 'genre - kolkata', 'genre - kollywood', 'genre - kolsche', 'genre - kompa', 'genre - kong', 'genre - konsrock', 'genre - korean', 'genre - kosovan', 'genre - krajiska', 'genre - kreyol', 'genre - krishna', 'genre - krushclub', 'genre - krushfunk', 'genre - kuduro', 'genre - kurdish', 'genre - kwaito', 'genre - ky', 'genre - kyrgyz', 'genre - la', 'genre - laboratorio', 'genre - lafayette', 'genre - lagu', 'genre - lagunera', 'genre - laiko', 'genre - lambadao', 'genre - lapista', 'genre - lapland', 'genre - lapsille', 'genre - lasten', 'genre - lata', 'genre - late', 'genre - latin', 'genre - latina', 'genre - latino', 'genre - latintronica', 'genre - latinx', 'genre - latmiya', 'genre - lautareasca', 'genre - lds', 'genre - lebanese', 'genre - leeds', 'genre - leicester', 'genre - leipzig', 'genre - leonean', 'genre - levenslied', 'genre - lexington', 'genre - lezginka', 'genre - lgbtq', 'genre - library', 'genre - liedermacher', 'genre - liegeois', 'genre - liguria', 'genre - lilith', 'genre - liminal', 'genre - liquid', 'genre - listening', 'genre - lithuanian', 'genre - little', 'genre - liturgy', 'genre - liverpool', 'genre - livetronica', 'genre - llanera', 'genre - lo', 'genre - london', 'genre - long', 'genre - louis', 'genre - louisiana', 'genre - louisville', 'genre - lounge', 'genre - louvor', 'genre - louvores', 'genre - lovers', 'genre - ludovky', 'genre - lullaby', 'genre - lyonnais', 'genre - macedonian', 'genre - madchester', 'genre - madrigal', 'genre - maga', 'genre - maghreb', 'genre - magyar', 'genre - mahraganat', 'genre - maimouna', 'genre - maine', 'genre - mainland', 'genre - malayalam', 'genre - malaysian', 'genre - malian', 'genre - mambo', 'genre - man', 'genre - manchester', 'genre - mande', 'genre - mandelao', 'genre - mandolin', 'genre - mandopop', 'genre - manele', 'genre - manguebeat', 'genre - mantra', 'genre - manyao', 'genre - maori', 'genre - mappila', 'genre - maranhao', 'genre - maranhense', 'genre - marathi', 'genre - marching', 'genre - marcos', 'genre - mariachi', 'genre - maroc', 'genre - maromba', 'genre - marseille', 'genre - marwadi', 'genre - mashcore', 'genre - mashup', 'genre - math', 'genre - mathcore', 'genre - mato', 'genre - mauricien', 'genre - mecha', 'genre - media', 'genre - medieval', 'genre - meditation', 'genre - mediterranean', 'genre - mega', 'genre - melancholia', 'genre - melayu', 'genre - melbourne', 'genre - mellow', 'genre - melodeath', 'genre - melodic', 'genre - melodica', 'genre - melody', 'genre - meme', 'genre - memphis', 'genre - merengue', 'genre - merseybeat', 'genre - metal', 'genre - metalcore', 'genre - metallic', 'genre - metropopolis', 'genre - mexican', 'genre - mexicana', 'genre - mexicano', 'genre - mezzo', 'genre - miami', 'genre - michigan', 'genre - michoacana', 'genre - microhouse', 'genre - microtonal', 'genre - middle', 'genre - midwest', 'genre - milan', 'genre - militaire', 'genre - military', 'genre - milwaukee', 'genre - minang', 'genre - mineira', 'genre - mineiro', 'genre - minimal', 'genre - minimalism', 'genre - minneapolis', 'genre - minnesota', 'genre - mississippi', 'genre - mixteca', 'genre - mizrahi', 'genre - mluvene', 'genre - mn', 'genre - mo', 'genre - mod', 'genre - modern', 'genre - moderne', 'genre - moderno', 'genre - modular', 'genre - moldovan', 'genre - moldoveneasca', 'genre - mollywood', 'genre - mongolian', 'genre - montenegrin', 'genre - montrealais', 'genre - mood', 'genre - moombahton', 'genre - morna', 'genre - moroccan', 'genre - motivation', 'genre - motown', 'genre - motywacja', 'genre - mountain', 'genre - movie', 'genre - mpb', 'genre - mtg', 'genre - mulatos', 'genre - mumbai', 'genre - munich', 'genre - music', 'genre - musica', 'genre - musical', 'genre - musicalek', 'genre - musicals', 'genre - musiikkia', 'genre - musik', 'genre - musikk', 'genre - musikkorps', 'genre - musiqi', 'genre - musique', 'genre - muzica', 'genre - muziek', 'genre - muzigi', 'genre - muzika', 'genre - naat', 'genre - nacional', 'genre - naija', 'genre - nantes', 'genre - napoletana', 'genre - napoletano', 'genre - narodna', 'genre - narodnozabavna', 'genre - nasheed', 'genre - nashville', 'genre - native', 'genre - ndombolo', 'genre - neapolitan', 'genre - necrotrap', 'genre - nederlandse', 'genre - neo', 'genre - neoclassical', 'genre - neoclassicism', 'genre - neoleonesa', 'genre - neomelodici', 'genre - neon', 'genre - neoperreo', 'genre - neotango', 'genre - nepali', 'genre - nephop', 'genre - nerdcore', 'genre - neue', 'genre - neurofunk', 'genre - neurostep', 'genre - new', 'genre - newcastle', 'genre - ney', 'genre - nigerian', 'genre - nightcore', 'genre - nightrun', 'genre - ninos', 'genre - nintendocore', 'genre - nitzhonot', 'genre - no', 'genre - noise', 'genre - noisecore', 'genre - nordic', 'genre - norrlandsk', 'genre - norteno', 'genre - north', 'genre - northeast', 'genre - northern', 'genre - norwegian', 'genre - nottingham', 'genre - nouvelle', 'genre - nova', 'genre - novelty', 'genre - novo', 'genre - novos', 'genre - nrg', 'genre - nsw', 'genre - nu', 'genre - nubian', 'genre - nueva', 'genre - nuevo', 'genre - nursery', 'genre - nwobhm', 'genre - ny', 'genre - nyc', 'genre - nyhc', 'genre - nz', 'genre - oakland', 'genre - oaxaquena', 'genre - oc', 'genre - ocean', 'genre - oceania', 'genre - odia', 'genre - of', 'genre - ohio', 'genre - oi', 'genre - okinawan', 'genre - oklahoma', 'genre - oktoberfest', 'genre - old', 'genre - oldschool', 'genre - olympia', 'genre - on', 'genre - opera', 'genre - operatic', 'genre - operetta', 'genre - opm', 'genre - orchestr', 'genre - orchestra', 'genre - orchestral', 'genre - organ', 'genre - organic', 'genre - orgcore', 'genre - oriental', 'genre - orlando', 'genre - orleans', 'genre - orquestas', 'genre - orthodox', 'genre - oshare', 'genre - ost', 'genre - ostentacao', 'genre - ostrock', 'genre - otacore', 'genre - ottawa', 'genre - out', 'genre - outer', 'genre - outlaw', 'genre - outsider', 'genre - oxford', 'genre - oyun', 'genre - paattu', 'genre - pacific', 'genre - pagan', 'genre - pagode', 'genre - paidika', 'genre - paillarde', 'genre - paisley', 'genre - pakistani', 'genre - palestinian', 'genre - palm', 'genre - pan', 'genre - panamanian', 'genre - para', 'genre - paraense', 'genre - paraibana', 'genre - paranaense', 'genre - park', 'genre - parody', 'genre - partido', 'genre - party', 'genre - partyschlager', 'genre - pashto', 'genre - paso', 'genre - pastoral', 'genre - paulista', 'genre - pennsylvania', 'genre - pentecostais', 'genre - per', 'genre - percussion', 'genre - performance', 'genre - permanent', 'genre - pernambucana', 'genre - pernambucano', 'genre - perreo', 'genre - persian', 'genre - peruana', 'genre - peruano', 'genre - peruvian', 'genre - pesado', 'genre - pesme', 'genre - pesni', 'genre - pesnicky', 'genre - pet', 'genre - philly', 'genre - phonk', 'genre - piano', 'genre - piauiense', 'genre - picopop', 'genre - piedmont', 'genre - pink', 'genre - pinoy', 'genre - piosenki', 'genre - pirate', 'genre - piseiro', 'genre - pisnicky', 'genre - pitiusa', 'genre - pittsburgh', 'genre - pixel', 'genre - pixie', 'genre - plug', 'genre - plugg', 'genre - pluggnb', 'genre - plunderphonics', 'genre - poblana', 'genre - poetry', 'genre - poezja', 'genre - pohadky', 'genre - polish', 'genre - political', 'genre - politico', 'genre - polka', 'genre - polo', 'genre - polyphony', 'genre - pop', 'genre - popgaze', 'genre - popping', 'genre - poprock', 'genre - poptimism', 'genre - popular', 'genre - populara', 'genre - popullore', 'genre - popwave', 'genre - pornogrind', 'genre - porro', 'genre - portland', 'genre - portsmouth', 'genre - portuense', 'genre - portuguese', 'genre - post', 'genre - potosina', 'genre - pour', 'genre - pov', 'genre - power', 'genre - powerviolence', 'genre - praise', 'genre - preschool', 'genre - previa', 'genre - product', 'genre - prog', 'genre - progressive', 'genre - proto', 'genre - protopunk', 'genre - psicodelia', 'genre - psych', 'genre - psychedelic', 'genre - psychill', 'genre - psychokore', 'genre - psydub', 'genre - psytrance', 'genre - pub', 'genre - puerto', 'genre - puertorriquena', 'genre - puirt', 'genre - punjabi', 'genre - punk', 'genre - purple', 'genre - purulia', 'genre - qawwali', 'genre - quantum', 'genre - quartet', 'genre - quebec', 'genre - quebecois', 'genre - queen', 'genre - queens', 'genre - queercore', 'genre - quiet', 'genre - quintanarroense', 'genre - quran', 'genre - rabindra', 'genre - radio', 'genre - rage', 'genre - ragga', 'genre - raggatek', 'genre - ragni', 'genre - ragtime', 'genre - rai', 'genre - rain', 'genre - rajasthani', 'genre - rally', 'genre - ranchera', 'genre - rap', 'genre - rapids', 'genre - rasiya', 'genre - rave', 'genre - raw', 'genre - rawstyle', 'genre - reading', 'genre - rebel', 'genre - rebetiko', 'genre - recitation', 'genre - recording', 'genre - red', 'genre - redneck', 'genre - reggae', 'genre - reggaeton', 'genre - regional', 'genre - relaxative', 'genre - remix', 'genre - renaissance', 'genre - rep', 'genre - reparto', 'genre - resources', 'genre - retro', 'genre - reverb', 'genre - revival', 'genre - rhode', 'genre - rhythm', 'genre - rican', 'genre - riddim', 'genre - rif', 'genre - rimex', 'genre - rio', 'genre - riot', 'genre - rj', 'genre - rkt', 'genre - road', 'genre - rochester', 'genre - rock', 'genre - rockabilly', 'genre - rockism', 'genre - roda', 'genre - roll', 'genre - romance', 'genre - romanian', 'genre - romantic', 'genre - romanticism', 'genre - romantico', 'genre - rome', 'genre - rondoniense', 'genre - room', 'genre - roots', 'genre - rouge', 'genre - rumba', 'genre - rumeli', 'genre - rune', 'genre - russelater', 'genre - russian', 'genre - rva', 'genre - sabahan', 'genre - sacramento', 'genre - sad', 'genre - salsa', 'genre - salvadorena', 'genre - samba', 'genre - sami', 'genre - samurai', 'genre - san', 'genre - sanat', 'genre - sandalwood', 'genre - sangeet', 'genre - santiaguena', 'genre - santiagueno', 'genre - santomense', 'genre - sarda', 'genre - sardegna', 'genre - sarkilar', 'genre - sarkilari', 'genre - saskatchewan', 'genre - sasscore', 'genre - satuja', 'genre - saudade', 'genre - sax', 'genre - saxophone', 'genre - scam', 'genre - scandinavian', 'genre - scandipop', 'genre - scene', 'genre - scenecore', 'genre - schlager', 'genre - school', 'genre - schranz', 'genre - sci', 'genre - score', 'genre - scorecore', 'genre - scottish', 'genre - scouse', 'genre - scratch', 'genre - scream', 'genre - screamo', 'genre - screwed', 'genre - seattle', 'genre - sefardi', 'genre - segment', 'genre - seinen', 'genre - seiyu', 'genre - semba', 'genre - serbian', 'genre - sertanejo', 'genre - sevdah', 'genre - shaabi', 'genre - shabad', 'genre - shamisen', 'genre - shanty', 'genre - shatta', 'genre - sheffield', 'genre - sheilat', 'genre - shib', 'genre - shimmer', 'genre - shiver', 'genre - shoegaze', 'genre - shojo', 'genre - shonen', 'genre - show', 'genre - shred', 'genre - shush', 'genre - sichuanese', 'genre - siciliana', 'genre - sierra', 'genre - sierreno', 'genre - sigilkore', 'genre - sikkim', 'genre - sillycore', 'genre - sinaloa', 'genre - sinaloense', 'genre - sinfonica', 'genre - singaporean', 'genre - singeli', 'genre - singer', 'genre - singing', 'genre - sinhala', 'genre - sitar', 'genre - ska', 'genre - skansk', 'genre - skate', 'genre - skramz', 'genre - sky', 'genre - slacker', 'genre - slam', 'genre - slamming', 'genre - slap', 'genre - slaskie', 'genre - slavic', 'genre - slayer', 'genre - slc', 'genre - sleaze', 'genre - sleep', 'genre - slovak', 'genre - slovenian', 'genre - slovo', 'genre - slow', 'genre - slowcore', 'genre - slowed', 'genre - sludge', 'genre - slushwave', 'genre - small', 'genre - smooth', 'genre - smutny', 'genre - soca', 'genre - socal', 'genre - social', 'genre - soft', 'genre - solfeggio', 'genre - solipsynthm', 'genre - solo', 'genre - song', 'genre - songwriter', 'genre - sonidera', 'genre - sonorense', 'genre - sophisti', 'genre - soprano', 'genre - sotalaulut', 'genre - soul', 'genre - souldies', 'genre - soulful', 'genre - sound', 'genre - soundtrack', 'genre - south', 'genre - southern', 'genre - soviet', 'genre - sovietwave', 'genre - space', 'genre - spacegrunge', 'genre - spacewave', 'genre - spanish', 'genre - spectra', 'genre - sped', 'genre - speed', 'genre - speedcore', 'genre - speedrun', 'genre - spiewana', 'genre - spiritual', 'genre - st', 'genre - standards', 'genre - starogradska', 'genre - steampunk', 'genre - steel', 'genre - stockholm', 'genre - stomp', 'genre - stoner', 'genre - storm', 'genre - straight', 'genre - string', 'genre - strut', 'genre - study', 'genre - stutter', 'genre - stuttgart', 'genre - style', 'genre - subliminal', 'genre - substep', 'genre - sudanese', 'genre - sufi', 'genre - sul', 'genre - sung', 'genre - sunnlensk', 'genre - sunshine', 'genre - suomi', 'genre - suomirap', 'genre - super', 'genre - supergroup', 'genre - sureste', 'genre - surf', 'genre - swag', 'genre - swamp', 'genre - swancore', 'genre - swedish', 'genre - swing', 'genre - swiss', 'genre - sydney', 'genre - symfonicky', 'genre - symphonic', 'genre - symphony', 'genre - synth', 'genre - synthesizer', 'genre - synthpop', 'genre - synthwave', 'genre - syrian', 'genre - szanty', 'genre - tabasquena', 'genre - tagalog', 'genre - tahitienne', 'genre - taiwan', 'genre - talent', 'genre - talentkonkurrence', 'genre - talentos', 'genre - tallava', 'genre - tamariki', 'genre - tamazight', 'genre - tamil', 'genre - tango', 'genre - tape', 'genre - taraneem', 'genre - tatar', 'genre - team', 'genre - tearout', 'genre - tech', 'genre - technical', 'genre - techno', 'genre - tecnobanda', 'genre - tecnobrega', 'genre - teen', 'genre - tejano', 'genre - tek', 'genre - tekk', 'genre - tekno', 'genre - telepop', 'genre - telugu', 'genre - tennessee', 'genre - tenor', 'genre - terrorcore', 'genre - texas', 'genre - texasgaze', 'genre - thai', 'genre - theme', 'genre - thrash', 'genre - throat', 'genre - tibetan', 'genre - tico', 'genre - tierra', 'genre - tijuana', 'genre - time', 'genre - tin', 'genre - tocantinense', 'genre - todeskunst', 'genre - tolkien', 'genre - tollywood', 'genre - tonk', 'genre - tonlist', 'genre - tontipop', 'genre - torch', 'genre - toronto', 'genre - touch', 'genre - touhou', 'genre - town', 'genre - track', 'genre - tradicional', 'genre - tradicionalista', 'genre - traditional', 'genre - tragoudia', 'genre - trance', 'genre - trancecore', 'genre - transpop', 'genre - trap', 'genre - traphall', 'genre - traprun', 'genre - trash', 'genre - tribal', 'genre - tribe', 'genre - trinibad', 'genre - trio', 'genre - trip', 'genre - triste', 'genre - trival', 'genre - trombone', 'genre - trondersk', 'genre - trop', 'genre - tropical', 'genre - tropicalia', 'genre - trova', 'genre - truck', 'genre - trumpet', 'genre - tuba', 'genre - tuga', 'genre - tulsa', 'genre - tumbados', 'genre - tuna', 'genre - tunes', 'genre - tunisien', 'genre - turbo', 'genre - turk', 'genre - turkce', 'genre - turkish', 'genre - turkmen', 'genre - turkuleri', 'genre - turntablism', 'genre - tv', 'genre - twee', 'genre - twitch', 'genre - tx', 'genre - ua', 'genre - uk', 'genre - ukg', 'genre - ukrainian', 'genre - ukulele', 'genre - uliczny', 'genre - ulkucu', 'genre - umea', 'genre - underground', 'genre - universitario', 'genre - university', 'genre - up', 'genre - uplift', 'genre - uplifting', 'genre - upstate', 'genre - uptempo', 'genre - urbaine', 'genre - urban', 'genre - urbana', 'genre - urbano', 'genre - urdu', 'genre - uruguayo', 'genre - us', 'genre - usoara', 'genre - utopian', 'genre - uwielbienie', 'genre - uyghur', 'genre - uzbek', 'genre - vallenato', 'genre - vancouver', 'genre - vapor', 'genre - vaporwave', 'genre - vaqueiro', 'genre - variete', 'genre - vaudeville', 'genre - vbs', 'genre - vegan', 'genre - vegas', 'genre - velha', 'genre - venezolana', 'genre - venezolano', 'genre - venezuelan', 'genre - verdiana', 'genre - vgm', 'genre - via', 'genre - vibe', 'genre - video', 'genre - viet', 'genre - vietnamese', 'genre - viking', 'genre - villancicos', 'genre - villera', 'genre - vinahouse', 'genre - vincy', 'genre - vintage', 'genre - viola', 'genre - violao', 'genre - violin', 'genre - viral', 'genre - virale', 'genre - virgin', 'genre - virginia', 'genre - virtual', 'genre - visual', 'genre - vocal', 'genre - vocaloid', 'genre - vogue', 'genre - voidgaze', 'genre - volksmusik', 'genre - volkspop', 'genre - voor', 'genre - vtuber', 'genre - wa', 'genre - wagnerian', 'genre - waiata', 'genre - washington', 'genre - wassoulou', 'genre - water', 'genre - wave', 'genre - weirdcore', 'genre - welle', 'genre - welsh', 'genre - west', 'genre - westcoast', 'genre - western', 'genre - white', 'genre - wind', 'genre - windsor', 'genre - witch', 'genre - women', 'genre - wonky', 'genre - woogie', 'genre - wop', 'genre - workout', 'genre - world', 'genre - worship', 'genre - wrestling', 'genre - wu', 'genre - wyoming', 'genre - xtra', 'genre - yacht', 'genre - yaoi', 'genre - ye', 'genre - yemeni', 'genre - yo', 'genre - yodeling', 'genre - yoik', 'genre - york', 'genre - youth', 'genre - yugoslav', 'genre - zambian', 'genre - zanan', 'genre - zespol', 'genre - zhenskiy', 'genre - zhongguo', 'genre - zolo', 'genre - zoomergaze', 'genre - zouglou', 'genre - zouk', 'genre - zuliana', 'genre - zxc', 'year - 0000', 'year - 1951', 'year - 1953', 'year - 1954', 'year - 1955', 'year - 1956', 'year - 1957', 'year - 1958', 'year - 1959', 'year - 1960', 'year - 1961', 'year - 1962', 'year - 1963', 'year - 1964', 'year - 1965', 'year - 1966', 'year - 1967', 'year - 1968', 'year - 1969', 'year - 1970', 'year - 1971', 'year - 1972', 'year - 1973', 'year - 1974', 'year - 1975', 'year - 1976', 'year - 1977', 'year - 1978', 'year - 1979', 'year - 1980', 'year - 1981', 'year - 1982', 'year - 1983', 'year - 1984', 'year - 1985', 'year - 1986', 'year - 1987', 'year - 1988', 'year - 1989', 'year - 1990', 'year - 1991', 'year - 1992', 'year - 1993', 'year - 1994', 'year - 1995', 'year - 1996', 'year - 1997', 'year - 1998', 'year - 1999', 'year - 2000', 'year - 2001', 'year - 2002', 'year - 2003', 'year - 2004', 'year - 2005', 'year - 2006', 'year - 2007', 'year - 2008', 'year - 2009', 'year - 2010', 'year - 2011', 'year - 2012', 'year - 2013', 'year - 2014', 'year - 2015', 'year - 2016', 'year - 2017', 'year - 2018', 'year - 2019', 'year - 2020', 'year - 2021', 'year - 2022', 'year - 2023', 'year - 2024', 'popularity - 0', 'popularity - 1', 'popularity - 2', 'popularity - 3', 'popularity - 4', 'popularity - 5', 'popularity - 6', 'popularity - 7', 'popularity - 8', 'popularity - 9', 'artist_popularity - 0', 'artist_popularity - 1', 'artist_popularity - 2', 'artist_popularity - 3', 'artist_popularity - 4', 'artist_popularity - 5', 'artist_popularity - 6', 'artist_popularity - 7', 'artist_popularity - 8', 'artist_popularity - 9', 'artist_popularity - 10', 'track_id']\n"
          ]
        }
      ],
      "source": [
        "# list of all columns\n",
        "column_names = feature_set.columns.values.tolist()\n",
        "print(column_names)"
      ]
    },
    {
      "cell_type": "code",
      "execution_count": 13,
      "metadata": {
        "id": "XhuEUzC4nrrl"
      },
      "outputs": [],
      "source": [
        "def generate_playlist_feature(complete_feature_set, playlist_track_ids):\n",
        "\n",
        "    # fetch the playlist songs\n",
        "    complete_feature_set_playlist = complete_feature_set[np.isin(complete_feature_set['track_id'], playlist_track_ids)]\n",
        "\n",
        "    # unique track ids in the complete feature set\n",
        "    all_track_ids = np.unique(complete_feature_set['track_id'])\n",
        "\n",
        "    # track IDs that are not in the playlist\n",
        "    nonplaylist_track_ids = all_track_ids[~np.isin(all_track_ids, playlist_track_ids)]\n",
        "\n",
        "    # filter the complete feature set to get the non-playlist songs\n",
        "    complete_feature_set_nonplaylist = complete_feature_set[np.isin(complete_feature_set['track_id'], nonplaylist_track_ids)]\n",
        "\n",
        "    # weighted playlist feature set\n",
        "    playlist_feature_set = complete_feature_set_playlist\n",
        "    playlist_feature_set_weighted = playlist_feature_set.copy()\n",
        "\n",
        "    # sum the weighted features to get the final playlist feature vector\n",
        "    playlist_feature_set_weighted_final = playlist_feature_set_weighted.sum(axis=0)\n",
        "\n",
        "    return playlist_feature_set_weighted_final, complete_feature_set_nonplaylist"
      ]
    },
    {
      "cell_type": "markdown",
      "metadata": {
        "id": "1HXjyOShu-0v"
      },
      "source": [
        "---"
      ]
    },
    {
      "cell_type": "markdown",
      "metadata": {
        "id": "_u0Gm92SaoVh"
      },
      "source": [
        "## Generate Recommendation Using User Playlist"
      ]
    },
    {
      "cell_type": "code",
      "execution_count": 14,
      "metadata": {
        "id": "6BNqeLQpRnyI"
      },
      "outputs": [],
      "source": [
        "# fetch playlist for a user and make feature vectors\n",
        "playlist = generate_user_playlist(users, '609')\n",
        "feature_set_playlist_vector, feature_set_nonplaylist = generate_playlist_feature(feature_set, playlist)\n",
        "\n",
        "# recommendation function\n",
        "def generate_playlist_recos(df, features, nonplaylist_features):\n",
        "\n",
        "    # dataframe with trackids not in users playlist\n",
        "    non_playlist_df = df[df['track_id'].isin(nonplaylist_features['track_id'].values)]\n",
        "\n",
        "    # drop track_id column to avoid non numeric data into the similarity function\n",
        "    nonplaylist_features = nonplaylist_features.drop('track_id', axis = 1)\n",
        "    non_playlist_df['sim'] = np.nan\n",
        "\n",
        "    # fetch values of the feature vector into an array\n",
        "    features = features.values\n",
        "\n",
        "    # boolean mask for removing non-numeric values\n",
        "    numeric_mask = np.array([str(x).isdigit() or '.' in str(x) for x in features])\n",
        "\n",
        "    # filter the array\n",
        "    features = features[numeric_mask]\n",
        "\n",
        "    # check similarities\n",
        "    non_playlist_df['sim'] = cosine_similarity(nonplaylist_features, features.reshape(1, -1))[:,0]\n",
        "\n",
        "    # generate recommendations, head() controls number of songs to be recommended\n",
        "    non_playlist_df_recommendation = non_playlist_df.sort_values('sim',ascending = False).head(1)\n",
        "\n",
        "    return non_playlist_df_recommendation"
      ]
    },
    {
      "cell_type": "code",
      "execution_count": null,
      "metadata": {
        "id": "4c8T59pvW3Rc"
      },
      "outputs": [],
      "source": [
        "recommendation = generate_playlist_recos(data_processed, feature_set_playlist_vector, feature_set_nonplaylist)\n",
        "recommendation"
      ]
    },
    {
      "cell_type": "code",
      "execution_count": null,
      "metadata": {
        "id": "6b-RvdfMaHH8"
      },
      "outputs": [],
      "source": [
        "# similarity\n",
        "vectorized_similarity = float(recommendation['sim'].iloc[0]) * 100\n",
        "print(f\"% Similarity is: {vectorized_similarity}%\")"
      ]
    },
    {
      "cell_type": "markdown",
      "metadata": {
        "id": "uOgDW3s-RGIN"
      },
      "source": [
        "---"
      ]
    },
    {
      "cell_type": "markdown",
      "metadata": {
        "id": "bO0Bw7JPRHKl"
      },
      "source": [
        "## Lyrics Based Similarity"
      ]
    },
    {
      "cell_type": "code",
      "execution_count": 15,
      "metadata": {
        "id": "-UFDFnJ6Jp59"
      },
      "outputs": [],
      "source": [
        "def jaccard_similarity(list1, list2):\n",
        "    set1, set2 = set(list1), set(list2)\n",
        "\n",
        "    if len(set1) == 0 or len(set2) == 0:\n",
        "        return 0\n",
        "    else:\n",
        "        return len(set1 & set2) / len(set1 | set2)"
      ]
    },
    {
      "cell_type": "code",
      "execution_count": 16,
      "metadata": {
        "id": "--OQE4PaPoNf"
      },
      "outputs": [],
      "source": [
        "def recommend_song(input_track_ids, df):\n",
        "\n",
        "    # Get the input songs from the dataframe\n",
        "    input_songs = df.loc[df['track_id'].isin(input_track_ids)]\n",
        "\n",
        "    # Use the most common language\n",
        "    input_language = input_songs['language'].mode().iloc[0]\n",
        "\n",
        "    # Filter the input songs based on common language\n",
        "    input_songs = df[(df['track_id'].isin(input_track_ids)) & (df['language'] == input_language)]\n",
        "\n",
        "    # concatenate lyrics of input songs\n",
        "    input_lyrics = []\n",
        "    for index, row in input_songs.iterrows():\n",
        "        input_lyrics.append(np.array(row['lyrics_tokenized']))\n",
        "\n",
        "    input_lyrics = np.concatenate(input_lyrics, axis=0)\n",
        "\n",
        "\n",
        "    similarities = []\n",
        "\n",
        "    for _, song in df.iterrows():\n",
        "        if song['track_id'] not in input_track_ids:\n",
        "            song_lyrics = np.array(song['lyrics_tokenized'])\n",
        "            similarity = jaccard_similarity(input_lyrics, song_lyrics)\n",
        "            similarities.append((similarity, song))\n",
        "\n",
        "    similarities.sort(reverse=True, key=lambda x: x[0])\n",
        "\n",
        "    if similarities:\n",
        "        top_similarity, recommended_song = similarities[0]\n",
        "        percentage_similarity = top_similarity * 100\n",
        "        return recommended_song, percentage_similarity\n",
        "    else:\n",
        "        return None, 0.0"
      ]
    },
    {
      "cell_type": "code",
      "execution_count": null,
      "metadata": {
        "id": "3aj_NfT1HVLN"
      },
      "outputs": [],
      "source": [
        "# test usage\n",
        "input_track_ids = playlist\n",
        "recommended_song, percentage_similarity = recommend_song(input_track_ids, data_processed)\n",
        "print(f\"Recommended Song:\\n{recommended_song}\")\n",
        "print(f\"Similarity Percentage: {percentage_similarity:.2f}%\")"
      ]
    },
    {
      "cell_type": "markdown",
      "metadata": {
        "id": "SkNGcdckY5Rc"
      },
      "source": [
        "---"
      ]
    },
    {
      "cell_type": "markdown",
      "metadata": {
        "id": "I8vQ0TOgY9vx"
      },
      "source": [
        "## Final Comparison"
      ]
    },
    {
      "cell_type": "code",
      "execution_count": 17,
      "metadata": {
        "id": "AKHWLZxjLHpU"
      },
      "outputs": [],
      "source": [
        "# function to compare between similarities\n",
        "def recommend_final(playlist, df):\n",
        "\n",
        "  # create feature_set\n",
        "  feature_set = create_features(df)\n",
        "\n",
        "  # generate playlist features\n",
        "  features, nonplaylist_features = generate_playlist_feature(feature_set, playlist)\n",
        "\n",
        "  # get vectorized metrics\n",
        "  vectorized_recommendation = generate_playlist_recos(df, features, nonplaylist_features)\n",
        "  vectorized_similarity = float(vectorized_recommendation['sim'].iloc[0]) * 100\n",
        "\n",
        "  # get lyrical metrics\n",
        "  lyrical_recommendation, lyrical_similarity = recommend_song(playlist, df)\n",
        "\n",
        "  if lyrical_similarity > vectorized_similarity:\n",
        "    return lyrical_recommendation, lyrical_similarity\n",
        "  else:\n",
        "    return vectorized_recommendation, vectorized_similarity"
      ]
    },
    {
      "cell_type": "code",
      "execution_count": 29,
      "metadata": {
        "colab": {
          "base_uri": "https://localhost:8080/"
        },
        "id": "eVl0HtVBcr3v",
        "outputId": "28304b2d-894b-4d37-ed37-19ab02f2d095"
      },
      "outputs": [
        {
          "name": "stdout",
          "output_type": "stream",
          "text": [
            "Recommended Song:\n",
            "                                      track_name                track_id  \\\n",
            "17410  EU JA DEITEI NO SEU SORRISO - Versão Funk  6IFyakeE62lnpa2Cmw3PAB   \n",
            "\n",
            "       duration_ms  explicit  popularity  \\\n",
            "17410       140826     False           0   \n",
            "\n",
            "                                      album_name release_year  \\\n",
            "17410  EU JA DEITEI NO SEU SORRISO (Versão Funk)         2023   \n",
            "\n",
            "          artist_names  acousticness  danceability  ...  popular_artist  \\\n",
            "17410  [DJ PK O Único]         0.202         0.905  ...   DJ PK O Único   \n",
            "\n",
            "       combined_genres  combined_popularity  combined_followers  \\\n",
            "17410               []                 50.0             10360.0   \n",
            "\n",
            "       artist_popularity  artist_followers  lyrics  lyrics_tokenized  \\\n",
            "17410                  5             10360     nan             [nan]   \n",
            "\n",
            "       language       sim  \n",
            "17410        tl  0.637894  \n",
            "\n",
            "[1 rows x 30 columns]\n",
            "Similarity Percentage: 63.79%\n"
          ]
        }
      ],
      "source": [
        "# test\n",
        "playlist = generate_user_playlist(users, '7997')\n",
        "df = data_processed\n",
        "\n",
        "recommended_song, percentage_similarity = recommend_final(playlist, df)\n",
        "print(f\"Recommended Song:\\n{recommended_song}\")\n",
        "print(f\"Similarity Percentage: {percentage_similarity:.2f}%\")"
      ]
    },
    {
      "cell_type": "code",
      "execution_count": 30,
      "metadata": {
        "colab": {
          "base_uri": "https://localhost:8080/"
        },
        "id": "9SpoSC0gknvt",
        "outputId": "54f7b2be-0d84-4ddf-9469-8b229525cb3a"
      },
      "outputs": [
        {
          "name": "stdout",
          "output_type": "stream",
          "text": [
            "Recommended Song:\n",
            "      track_name                track_id  duration_ms  explicit  popularity  \\\n",
            "18879       Solo  4lH6nENd1y81jp7Yt9lTBX       265996      True           7   \n",
            "\n",
            "      album_name release_year artist_names  acousticness  danceability  ...  \\\n",
            "18879     HNDRXX         2017     [Future]        0.0538         0.784  ...   \n",
            "\n",
            "       popular_artist                                    combined_genres  \\\n",
            "18879          Future  [trap, hip hop, rap, atl hip hop, southern hip...   \n",
            "\n",
            "       combined_popularity  combined_followers  artist_popularity  \\\n",
            "18879                 90.0          17492982.0                  9   \n",
            "\n",
            "       artist_followers                                             lyrics  \\\n",
            "18879          17492982  talk to me\\r \\r i don't wanna let you down, i ...   \n",
            "\n",
            "                                        lyrics_tokenized  language       sim  \n",
            "18879  [talk, dont, wan, na, let, dont, wan, na, let,...        en  0.928774  \n",
            "\n",
            "[1 rows x 30 columns]\n",
            "Similarity Percentage: 92.88%\n"
          ]
        }
      ],
      "source": [
        "# yatharth's recos\n",
        "playlist_yatharth = ['52NGJPcLUzQq5w7uv4e5gf', '0VgkVdmE4gld66l8iyGjgx', '5Ryu0SlsYjKh78RkJUONFr']\n",
        "df_yatharth = data_processed\n",
        "\n",
        "recommended_song, percentage_similarity = recommend_final(playlist_yatharth, df_yatharth)\n",
        "print(f\"Recommended Song:\\n{recommended_song}\")\n",
        "print(f\"Similarity Percentage: {percentage_similarity:.2f}%\")"
      ]
    },
    {
      "cell_type": "markdown",
      "metadata": {
        "id": "ESnqSsHHptpz"
      },
      "source": [
        "---"
      ]
    },
    {
      "cell_type": "code",
      "execution_count": 18,
      "metadata": {
        "id": "7maVrfOHps98"
      },
      "outputs": [
        {
          "name": "stdout",
          "output_type": "stream",
          "text": [
            "Total Similarity Percentage: 78.62%\n"
          ]
        }
      ],
      "source": [
        "# calculating average similarity percentage\n",
        "user_list = users.index.to_list()\n",
        "percentage_similarity_list = [[] for _ in user_list]\n",
        "\n",
        "for user in user_list:\n",
        "  playlist = generate_user_playlist(users, user)\n",
        "  df = data_processed\n",
        "\n",
        "  recommended_song, percentage_similarity = recommend_final(playlist, df)\n",
        "  percentage_similarity_list[user_list.index(user)].append(percentage_similarity)\n",
        "\n",
        "percentage_similarity_list_df = pd.DataFrame(percentage_similarity_list)\n",
        "percentage_similarity_list_df.to_csv('percentage_similarity_list.csv')\n",
        "\n",
        "total_percentage_similarity = np.mean([np.mean(user_similarities) for user_similarities in percentage_similarity_list])\n",
        "print(f\"Total Similarity Percentage: {total_percentage_similarity:.2f}%\")"
      ]
    },
    {
      "cell_type": "code",
      "execution_count": 28,
      "metadata": {},
      "outputs": [
        {
          "data": {
            "image/png": "[encoded data removed]",
            "text/plain": [
              "<Figure size 1800x600 with 1 Axes>"
            ]
          },
          "metadata": {},
          "output_type": "display_data"
        }
      ],
      "source": [
        "# create the graph\n",
        "fig, ax = plt.subplots(figsize=(18, 6))\n",
        "percentage_similarity_list_df.plot(ax=ax, kind='line')\n",
        "\n",
        "# Set the x-axis ticks and labels\n",
        "num_recommendations = len(percentage_similarity_list_df.columns)\n",
        "ax.set_xticks(np.arange(num_recommendations))\n",
        "ax.set_xticklabels([f\"Recommendation {i+1}\" for i in range(num_recommendations)])\n",
        "\n",
        "# Set labels and title\n",
        "ax.set_xlabel(\"Recommendation\")\n",
        "ax.set_ylabel(\"Similarity Percentage\")\n",
        "ax.set_title(\"Similarity Line Graph\")\n",
        "\n",
        "# Add a threshold line\n",
        "ax.axhline(y=70, color='r', linestyle='--', label='70% Threshold')\n",
        "\n",
        "# Show the plot\n",
        "plt.show()"
      ]
    },
    {
      "cell_type": "code",
      "execution_count": null,
      "metadata": {},
      "outputs": [],
      "source": []
    }
  ],
  "metadata": {
    "colab": {
      "collapsed_sections": [
        "_9yAAW3aC-P5",
        "9s1w4INLp0XI",
        "1PBeA6DmDBwN",
        "JqK5zw4GDK3o",
        "MFP-QuSpFxK7",
        "c-6WAels9k6w",
        "0-cHIMH9bsyp"
      ],
      "provenance": []
    },
    "kernelspec": {
      "display_name": "Python 3",
      "name": "python3"
    },
    "language_info": {
      "codemirror_mode": {
        "name": "ipython",
        "version": 3
      },
      "file_extension": ".py",
      "mimetype": "text/x-python",
      "name": "python",
      "nbconvert_exporter": "python",
      "pygments_lexer": "ipython3",
      "version": "3.11.2"
    }
  },
  "nbformat": 4,
  "nbformat_minor": 0
}
