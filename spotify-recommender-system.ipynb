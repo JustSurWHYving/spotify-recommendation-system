{
  "cells": [
    {
      "cell_type": "markdown",
      "metadata": {
        "id": "7m_WeehvV8Ao"
      },
      "source": [
        "### Initial Setup"
      ]
    },
    {
      "cell_type": "code",
      "source": [
        "# gdrive module\n",
        "from google.colab import drive\n",
        "drive.mount('/content/gdrive')"
      ],
      "metadata": {
        "id": "RpAIQOwbXq4q",
        "colab": {
          "base_uri": "https://localhost:8080/"
        },
        "outputId": "ea72b886-165a-407c-9422-6abf5a052ce3"
      },
      "execution_count": 1,
      "outputs": [
        {
          "output_type": "stream",
          "name": "stdout",
          "text": [
            "Drive already mounted at /content/gdrive; to attempt to forcibly remount, call drive.mount(\"/content/gdrive\", force_remount=True).\n"
          ]
        }
      ]
    },
    {
      "cell_type": "code",
      "source": [
        "# module installs\n",
        "!pip install spotipy langdetect"
      ],
      "metadata": {
        "id": "L283yux_Y7Bs",
        "colab": {
          "base_uri": "https://localhost:8080/"
        },
        "outputId": "5dfcda11-a719-48c6-8bc0-d523cf2c0b49"
      },
      "execution_count": 2,
      "outputs": [
        {
          "output_type": "stream",
          "name": "stdout",
          "text": [
            "Requirement already satisfied: spotipy in /usr/local/lib/python3.10/dist-packages (2.24.0)\n",
            "Requirement already satisfied: langdetect in /usr/local/lib/python3.10/dist-packages (1.0.9)\n",
            "Requirement already satisfied: lyricsgenius in /usr/local/lib/python3.10/dist-packages (3.0.1)\n",
            "Requirement already satisfied: redis>=3.5.3 in /usr/local/lib/python3.10/dist-packages (from spotipy) (5.0.7)\n",
            "Requirement already satisfied: requests>=2.25.0 in /usr/local/lib/python3.10/dist-packages (from spotipy) (2.31.0)\n",
            "Requirement already satisfied: urllib3>=1.26.0 in /usr/local/lib/python3.10/dist-packages (from spotipy) (1.26.19)\n",
            "Requirement already satisfied: six in /usr/local/lib/python3.10/dist-packages (from langdetect) (1.16.0)\n",
            "Requirement already satisfied: beautifulsoup4>=4.6.0 in /usr/local/lib/python3.10/dist-packages (from lyricsgenius) (4.12.3)\n",
            "Requirement already satisfied: soupsieve>1.2 in /usr/local/lib/python3.10/dist-packages (from beautifulsoup4>=4.6.0->lyricsgenius) (2.5)\n",
            "Requirement already satisfied: async-timeout>=4.0.3 in /usr/local/lib/python3.10/dist-packages (from redis>=3.5.3->spotipy) (4.0.3)\n",
            "Requirement already satisfied: charset-normalizer<4,>=2 in /usr/local/lib/python3.10/dist-packages (from requests>=2.25.0->spotipy) (3.3.2)\n",
            "Requirement already satisfied: idna<4,>=2.5 in /usr/local/lib/python3.10/dist-packages (from requests>=2.25.0->spotipy) (3.7)\n",
            "Requirement already satisfied: certifi>=2017.4.17 in /usr/local/lib/python3.10/dist-packages (from requests>=2.25.0->spotipy) (2024.6.2)\n"
          ]
        }
      ]
    },
    {
      "cell_type": "code",
      "execution_count": 3,
      "metadata": {
        "id": "-6eK0CPLuYKJ"
      },
      "outputs": [],
      "source": [
        "# imports\n",
        "import numpy as np\n",
        "import pandas as pd\n",
        "import requests\n",
        "import spotipy\n",
        "import lyricsgenius\n",
        "import librosa\n",
        "import json\n",
        "import re\n",
        "import urllib.request\n",
        "import langdetect as ld\n",
        "\n",
        "from spotipy.oauth2 import SpotifyClientCredentials\n",
        "from bs4 import BeautifulSoup"
      ]
    },
    {
      "cell_type": "code",
      "execution_count": 5,
      "metadata": {
        "id": "iKHvBeyrxKjL"
      },
      "outputs": [],
      "source": [
        "# spotify api creds\n",
        "SPOTIFY_CLIENT_ID = ''\n",
        "SPOTIFY_CLIENT_SECRET = ''"
      ]
    },
    {
      "cell_type": "code",
      "execution_count": 6,
      "metadata": {
        "id": "eVZwwPDzxI7a"
      },
      "outputs": [],
      "source": [
        "# function to get spotify token\n",
        "def get_spotify_token(client_id, client_secret):\n",
        "    auth_url = 'https://accounts.spotify.com/api/token'\n",
        "    auth_response = requests.post(auth_url, {\n",
        "        'grant_type': 'client_credentials',\n",
        "        'client_id': client_id,\n",
        "        'client_secret': client_secret,\n",
        "    })\n",
        "    auth_response_data = auth_response.json()\n",
        "    return auth_response_data['access_token']"
      ]
    },
    {
      "cell_type": "code",
      "source": [
        "# store the spotify token\n",
        "spotify_token = get_spotify_token(SPOTIFY_CLIENT_ID, SPOTIFY_CLIENT_SECRET)"
      ],
      "metadata": {
        "id": "8MfpJM4kq5Ut"
      },
      "execution_count": 7,
      "outputs": []
    },
    {
      "cell_type": "code",
      "source": [
        "# authorise spotipy module\n",
        "sp = spotipy.Spotify(auth=spotify_token)"
      ],
      "metadata": {
        "id": "jW5xBg-zrJHL"
      },
      "execution_count": 8,
      "outputs": []
    },
    {
      "cell_type": "code",
      "execution_count": 9,
      "metadata": {
        "id": "DA1DXOkT67Wr"
      },
      "outputs": [],
      "source": [
        "# track details function\n",
        "def get_track_details(spotify_id):\n",
        "    track = sp.track(spotify_id)\n",
        "    return track['name'], track['artists'][0]['name']"
      ]
    },
    {
      "cell_type": "markdown",
      "metadata": {
        "id": "w6Xj1hAAV8Ap"
      },
      "source": [
        "---"
      ]
    },
    {
      "cell_type": "markdown",
      "metadata": {
        "id": "qcsf07AaV8Aq"
      },
      "source": [
        "### Lyrics - Free API (Adds jargon in the first line)"
      ]
    },
    {
      "cell_type": "code",
      "execution_count": 10,
      "metadata": {
        "id": "NKruiEwrV8Aq"
      },
      "outputs": [],
      "source": [
        "# function to get the lyrics from spotify id\n",
        "def get_lyrics_by_spotify_id(spotify_id):\n",
        "\n",
        "    song_title, artist = get_track_details(spotify_id)\n",
        "\n",
        "    artist = str(artist)\n",
        "    song_title = str(song_title)\n",
        "\n",
        "    url = 'https://api.lyrics.ovh/v1/' + artist + '/' + song_title\n",
        "\n",
        "    # fetch lyrics\n",
        "    response = requests.get(url)\n",
        "    json_data = json.loads(response.content)\n",
        "    lyrics = json_data['lyrics']\n",
        "    lyrics = lyrics.replace(\"Paroles de la chanson\",'Song - ')\n",
        "    lyrics = lyrics.replace(\"par\", ', Artist - ')\n",
        "\n",
        "    return lyrics"
      ]
    },
    {
      "cell_type": "code",
      "execution_count": 11,
      "metadata": {
        "id": "NrSNTUiC61LS",
        "colab": {
          "base_uri": "https://localhost:8080/"
        },
        "outputId": "11e36bc1-1891-465f-abb7-219e5c45a76e"
      },
      "outputs": [
        {
          "output_type": "stream",
          "name": "stdout",
          "text": [
            "song -  i kissed a girl , artist -  katy perry\r\n",
            "this was never the way i planned\n",
            "not my intention\n",
            "i got so brave, drink in hand\n",
            "lost my discretion\n",
            "it's not what i'm used to\n",
            "just wanna try you on\n",
            "i'm curious for you\n",
            "caught my attention\n",
            "\n",
            "i kissed a girl and i liked it\n",
            "the taste of her cherry chapstick\n",
            "i kissed a girl just to try it\n",
            "i hope my boyfriend don't mind it\n",
            "it felt so wrong, it felt so right\n",
            "don't mean i'm in love tonight\n",
            "i kissed a girl and i liked it\n",
            "\n",
            "i liked it\n",
            "\n",
            "no, i don't even know your name\n",
            "it doesn't matter\n",
            "you're my experimental game\n",
            "just human nature\n",
            "it's not what good girls do\n",
            "not how they should behave\n",
            "my head gets so confused\n",
            "hard to obey\n",
            "\n",
            "i kissed a girl and i liked it\n",
            "the taste of her cherry chapstick\n",
            "i kissed a girl just to try it\n",
            "i hope my boyfriend don't mind it\n",
            "it felt so wrong, it felt so right\n",
            "don't mean i'm in love tonight\n",
            "i kissed a girl and i liked it\n",
            "\n",
            "i liked it\n",
            "\n",
            "us girls, we are so magical\n",
            "soft skin, red lips, so kissable\n",
            "hard to resist, so touchable\n",
            "too good to deny it\n",
            "ain't no big deal, it's innocent\n",
            "\n",
            "i kissed a girl and i liked it\n",
            "the taste of her cherry chapstick\n",
            "i kissed a girl just to try it\n",
            "i hope my boyfriend don't mind it\n",
            "it felt so wrong, it felt so right\n",
            "don't mean i'm in love tonight\n",
            "i kissed a girl and i liked it\n",
            "i liked it\n"
          ]
        }
      ],
      "source": [
        "# example usage\n",
        "spotify_id = 'https://open.spotify.com/track/1pXrR5Y9OgcIV2JEAl2lCB'\n",
        "\n",
        "try:\n",
        "  lyrics = get_lyrics_by_spotify_id(spotify_id)\n",
        "\n",
        "  if lyrics:\n",
        "    print(lyrics.lower())\n",
        "  else:\n",
        "    print('No lyrics found')\n",
        "\n",
        "except:\n",
        "  print('Error retrieving lyrics. Please try again later.')"
      ]
    },
    {
      "cell_type": "markdown",
      "source": [
        "---"
      ],
      "metadata": {
        "id": "UrXUK8QVmhn1"
      }
    },
    {
      "cell_type": "markdown",
      "source": [
        "### Feature Selection & Engineering"
      ],
      "metadata": {
        "id": "9s1w4INLp0XI"
      }
    },
    {
      "cell_type": "code",
      "execution_count": 12,
      "metadata": {
        "id": "PsZfpfgr8TZw",
        "colab": {
          "base_uri": "https://localhost:8080/"
        },
        "outputId": "158df1a5-97f0-4643-deab-db152c63c6af"
      },
      "outputs": [
        {
          "output_type": "stream",
          "name": "stdout",
          "text": [
            "[en:0.9999995056967628]\n"
          ]
        }
      ],
      "source": [
        "# language detection\n",
        "print(ld.detect_langs(lyrics.lower()))"
      ]
    },
    {
      "cell_type": "code",
      "source": [
        "# function to get the track's features\n",
        "def get_track_features(spotify_id):\n",
        "    track = sp.track(spotify_id)\n",
        "    audio_features = sp.audio_features(spotify_id)[0]\n",
        "\n",
        "    features = {\n",
        "        \"acousticness\": audio_features.get('acousticness', None),\n",
        "        \"danceability\": audio_features.get('danceability', None),\n",
        "        \"energy\": audio_features.get('energy', None),\n",
        "        \"instrumentalness\": audio_features.get('instrumentalness', None),\n",
        "        \"key\": audio_features.get('key', None),\n",
        "        \"liveness\": audio_features.get('liveness', None),\n",
        "        \"loudness\": audio_features.get('loudness', None),\n",
        "        \"mode\": audio_features.get('mode', None),\n",
        "        \"speechiness\": audio_features.get('speechiness', None),\n",
        "        \"tempo\": audio_features.get('tempo', None),\n",
        "        \"time_signature\": audio_features.get('time_signature', None),\n",
        "        \"valence\": audio_features.get('valence', None),\n",
        "        \"artists\": [artist['name'] for artist in track['artists']],\n",
        "        \"album_name\": track['album']['name'],\n",
        "        \"album_type\": track['album']['album_type'],\n",
        "        \"release_date\": track['album']['release_date'],\n",
        "        \"popularity\": track['popularity'],\n",
        "        \"duration_ms\": track['duration_ms'],\n",
        "        \"explicit\": track['explicit'],\n",
        "        \"genres\": sp.artist(track['artists'][0]['id']).get('genres', [])  # Assuming genres from the first artist\n",
        "    }\n",
        "\n",
        "\n",
        "    features = pd.DataFrame([features])\n",
        "\n",
        "    # optional: add lyrics as a column in the dataframe\n",
        "#    features['lyrics'] = get_lyrics_by_spotify_id(spotify_id)\n",
        "\n",
        "    return features"
      ],
      "metadata": {
        "id": "Yf8E8lEPKWBJ"
      },
      "execution_count": 20,
      "outputs": []
    },
    {
      "cell_type": "code",
      "source": [
        "spotify_id = 'https://open.spotify.com/track/1pXrR5Y9OgcIV2JEAl2lCB'\n",
        "features = get_track_features(spotify_id)\n",
        "features"
      ],
      "metadata": {
        "colab": {
          "base_uri": "https://localhost:8080/",
          "height": 118
        },
        "id": "2BbhPBIMqJ7e",
        "outputId": "5e4ae2a2-8b96-499f-f855-5c2894569ac1"
      },
      "execution_count": 23,
      "outputs": [
        {
          "output_type": "execute_result",
          "data": {
            "text/plain": [
              "   acousticness  danceability  energy  instrumentalness  key  liveness  \\\n",
              "0       0.00226         0.702    0.76                 0    5     0.132   \n",
              "\n",
              "   loudness  mode  speechiness    tempo  time_signature  valence  \\\n",
              "0    -3.174     1       0.0684  129.996               4    0.696   \n",
              "\n",
              "        artists       album_name album_type release_date  popularity  \\\n",
              "0  [Katy Perry]  One Of The Boys      album   2008-06-17          69   \n",
              "\n",
              "   duration_ms  explicit genres  \n",
              "0       179640     False  [pop]  "
            ],
            "text/html": [
              "\n",
              "  <div id=\"df-fa9f68e4-da0e-488b-9c20-727e981187e8\" class=\"colab-df-container\">\n",
              "    <div>\n",
              "<style scoped>\n",
              "    .dataframe tbody tr th:only-of-type {\n",
              "        vertical-align: middle;\n",
              "    }\n",
              "\n",
              "    .dataframe tbody tr th {\n",
              "        vertical-align: top;\n",
              "    }\n",
              "\n",
              "    .dataframe thead th {\n",
              "        text-align: right;\n",
              "    }\n",
              "</style>\n",
              "<table border=\"1\" class=\"dataframe\">\n",
              "  <thead>\n",
              "    <tr style=\"text-align: right;\">\n",
              "      <th></th>\n",
              "      <th>acousticness</th>\n",
              "      <th>danceability</th>\n",
              "      <th>energy</th>\n",
              "      <th>instrumentalness</th>\n",
              "      <th>key</th>\n",
              "      <th>liveness</th>\n",
              "      <th>loudness</th>\n",
              "      <th>mode</th>\n",
              "      <th>speechiness</th>\n",
              "      <th>tempo</th>\n",
              "      <th>time_signature</th>\n",
              "      <th>valence</th>\n",
              "      <th>artists</th>\n",
              "      <th>album_name</th>\n",
              "      <th>album_type</th>\n",
              "      <th>release_date</th>\n",
              "      <th>popularity</th>\n",
              "      <th>duration_ms</th>\n",
              "      <th>explicit</th>\n",
              "      <th>genres</th>\n",
              "    </tr>\n",
              "  </thead>\n",
              "  <tbody>\n",
              "    <tr>\n",
              "      <th>0</th>\n",
              "      <td>0.00226</td>\n",
              "      <td>0.702</td>\n",
              "      <td>0.76</td>\n",
              "      <td>0</td>\n",
              "      <td>5</td>\n",
              "      <td>0.132</td>\n",
              "      <td>-3.174</td>\n",
              "      <td>1</td>\n",
              "      <td>0.0684</td>\n",
              "      <td>129.996</td>\n",
              "      <td>4</td>\n",
              "      <td>0.696</td>\n",
              "      <td>[Katy Perry]</td>\n",
              "      <td>One Of The Boys</td>\n",
              "      <td>album</td>\n",
              "      <td>2008-06-17</td>\n",
              "      <td>69</td>\n",
              "      <td>179640</td>\n",
              "      <td>False</td>\n",
              "      <td>[pop]</td>\n",
              "    </tr>\n",
              "  </tbody>\n",
              "</table>\n",
              "</div>\n",
              "    <div class=\"colab-df-buttons\">\n",
              "\n",
              "  <div class=\"colab-df-container\">\n",
              "    <button class=\"colab-df-convert\" onclick=\"convertToInteractive('df-fa9f68e4-da0e-488b-9c20-727e981187e8')\"\n",
              "            title=\"Convert this dataframe to an interactive table.\"\n",
              "            style=\"display:none;\">\n",
              "\n",
              "  <svg xmlns=\"http://www.w3.org/2000/svg\" height=\"24px\" viewBox=\"0 -960 960 960\">\n",
              "    <path d=\"M120-120v-720h720v720H120Zm60-500h600v-160H180v160Zm220 220h160v-160H400v160Zm0 220h160v-160H400v160ZM180-400h160v-160H180v160Zm440 0h160v-160H620v160ZM180-180h160v-160H180v160Zm440 0h160v-160H620v160Z\"/>\n",
              "  </svg>\n",
              "    </button>\n",
              "\n",
              "  <style>\n",
              "    .colab-df-container {\n",
              "      display:flex;\n",
              "      gap: 12px;\n",
              "    }\n",
              "\n",
              "    .colab-df-convert {\n",
              "      background-color: #E8F0FE;\n",
              "      border: none;\n",
              "      border-radius: 50%;\n",
              "      cursor: pointer;\n",
              "      display: none;\n",
              "      fill: #1967D2;\n",
              "      height: 32px;\n",
              "      padding: 0 0 0 0;\n",
              "      width: 32px;\n",
              "    }\n",
              "\n",
              "    .colab-df-convert:hover {\n",
              "      background-color: #E2EBFA;\n",
              "      box-shadow: 0px 1px 2px rgba(60, 64, 67, 0.3), 0px 1px 3px 1px rgba(60, 64, 67, 0.15);\n",
              "      fill: #174EA6;\n",
              "    }\n",
              "\n",
              "    .colab-df-buttons div {\n",
              "      margin-bottom: 4px;\n",
              "    }\n",
              "\n",
              "    [theme=dark] .colab-df-convert {\n",
              "      background-color: #3B4455;\n",
              "      fill: #D2E3FC;\n",
              "    }\n",
              "\n",
              "    [theme=dark] .colab-df-convert:hover {\n",
              "      background-color: #434B5C;\n",
              "      box-shadow: 0px 1px 3px 1px rgba(0, 0, 0, 0.15);\n",
              "      filter: drop-shadow(0px 1px 2px rgba(0, 0, 0, 0.3));\n",
              "      fill: #FFFFFF;\n",
              "    }\n",
              "  </style>\n",
              "\n",
              "    <script>\n",
              "      const buttonEl =\n",
              "        document.querySelector('#df-fa9f68e4-da0e-488b-9c20-727e981187e8 button.colab-df-convert');\n",
              "      buttonEl.style.display =\n",
              "        google.colab.kernel.accessAllowed ? 'block' : 'none';\n",
              "\n",
              "      async function convertToInteractive(key) {\n",
              "        const element = document.querySelector('#df-fa9f68e4-da0e-488b-9c20-727e981187e8');\n",
              "        const dataTable =\n",
              "          await google.colab.kernel.invokeFunction('convertToInteractive',\n",
              "                                                    [key], {});\n",
              "        if (!dataTable) return;\n",
              "\n",
              "        const docLinkHtml = 'Like what you see? Visit the ' +\n",
              "          '<a target=\"_blank\" href=https://colab.research.google.com/notebooks/data_table.ipynb>data table notebook</a>'\n",
              "          + ' to learn more about interactive tables.';\n",
              "        element.innerHTML = '';\n",
              "        dataTable['output_type'] = 'display_data';\n",
              "        await google.colab.output.renderOutput(dataTable, element);\n",
              "        const docLink = document.createElement('div');\n",
              "        docLink.innerHTML = docLinkHtml;\n",
              "        element.appendChild(docLink);\n",
              "      }\n",
              "    </script>\n",
              "  </div>\n",
              "\n",
              "\n",
              "  <div id=\"id_5268db53-26b0-4a03-99b2-b7b0df9f4821\">\n",
              "    <style>\n",
              "      .colab-df-generate {\n",
              "        background-color: #E8F0FE;\n",
              "        border: none;\n",
              "        border-radius: 50%;\n",
              "        cursor: pointer;\n",
              "        display: none;\n",
              "        fill: #1967D2;\n",
              "        height: 32px;\n",
              "        padding: 0 0 0 0;\n",
              "        width: 32px;\n",
              "      }\n",
              "\n",
              "      .colab-df-generate:hover {\n",
              "        background-color: #E2EBFA;\n",
              "        box-shadow: 0px 1px 2px rgba(60, 64, 67, 0.3), 0px 1px 3px 1px rgba(60, 64, 67, 0.15);\n",
              "        fill: #174EA6;\n",
              "      }\n",
              "\n",
              "      [theme=dark] .colab-df-generate {\n",
              "        background-color: #3B4455;\n",
              "        fill: #D2E3FC;\n",
              "      }\n",
              "\n",
              "      [theme=dark] .colab-df-generate:hover {\n",
              "        background-color: #434B5C;\n",
              "        box-shadow: 0px 1px 3px 1px rgba(0, 0, 0, 0.15);\n",
              "        filter: drop-shadow(0px 1px 2px rgba(0, 0, 0, 0.3));\n",
              "        fill: #FFFFFF;\n",
              "      }\n",
              "    </style>\n",
              "    <button class=\"colab-df-generate\" onclick=\"generateWithVariable('features')\"\n",
              "            title=\"Generate code using this dataframe.\"\n",
              "            style=\"display:none;\">\n",
              "\n",
              "  <svg xmlns=\"http://www.w3.org/2000/svg\" height=\"24px\"viewBox=\"0 0 24 24\"\n",
              "       width=\"24px\">\n",
              "    <path d=\"M7,19H8.4L18.45,9,17,7.55,7,17.6ZM5,21V16.75L18.45,3.32a2,2,0,0,1,2.83,0l1.4,1.43a1.91,1.91,0,0,1,.58,1.4,1.91,1.91,0,0,1-.58,1.4L9.25,21ZM18.45,9,17,7.55Zm-12,3A5.31,5.31,0,0,0,4.9,8.1,5.31,5.31,0,0,0,1,6.5,5.31,5.31,0,0,0,4.9,4.9,5.31,5.31,0,0,0,6.5,1,5.31,5.31,0,0,0,8.1,4.9,5.31,5.31,0,0,0,12,6.5,5.46,5.46,0,0,0,6.5,12Z\"/>\n",
              "  </svg>\n",
              "    </button>\n",
              "    <script>\n",
              "      (() => {\n",
              "      const buttonEl =\n",
              "        document.querySelector('#id_5268db53-26b0-4a03-99b2-b7b0df9f4821 button.colab-df-generate');\n",
              "      buttonEl.style.display =\n",
              "        google.colab.kernel.accessAllowed ? 'block' : 'none';\n",
              "\n",
              "      buttonEl.onclick = () => {\n",
              "        google.colab.notebook.generateWithVariable('features');\n",
              "      }\n",
              "      })();\n",
              "    </script>\n",
              "  </div>\n",
              "\n",
              "    </div>\n",
              "  </div>\n"
            ],
            "application/vnd.google.colaboratory.intrinsic+json": {
              "type": "dataframe",
              "variable_name": "features",
              "summary": "{\n  \"name\": \"features\",\n  \"rows\": 1,\n  \"fields\": [\n    {\n      \"column\": \"acousticness\",\n      \"properties\": {\n        \"dtype\": \"number\",\n        \"std\": null,\n        \"min\": 0.00226,\n        \"max\": 0.00226,\n        \"num_unique_values\": 1,\n        \"samples\": [\n          0.00226\n        ],\n        \"semantic_type\": \"\",\n        \"description\": \"\"\n      }\n    },\n    {\n      \"column\": \"danceability\",\n      \"properties\": {\n        \"dtype\": \"number\",\n        \"std\": null,\n        \"min\": 0.702,\n        \"max\": 0.702,\n        \"num_unique_values\": 1,\n        \"samples\": [\n          0.702\n        ],\n        \"semantic_type\": \"\",\n        \"description\": \"\"\n      }\n    },\n    {\n      \"column\": \"energy\",\n      \"properties\": {\n        \"dtype\": \"number\",\n        \"std\": null,\n        \"min\": 0.76,\n        \"max\": 0.76,\n        \"num_unique_values\": 1,\n        \"samples\": [\n          0.76\n        ],\n        \"semantic_type\": \"\",\n        \"description\": \"\"\n      }\n    },\n    {\n      \"column\": \"instrumentalness\",\n      \"properties\": {\n        \"dtype\": \"number\",\n        \"std\": null,\n        \"min\": 0,\n        \"max\": 0,\n        \"num_unique_values\": 1,\n        \"samples\": [\n          0\n        ],\n        \"semantic_type\": \"\",\n        \"description\": \"\"\n      }\n    },\n    {\n      \"column\": \"key\",\n      \"properties\": {\n        \"dtype\": \"number\",\n        \"std\": null,\n        \"min\": 5,\n        \"max\": 5,\n        \"num_unique_values\": 1,\n        \"samples\": [\n          5\n        ],\n        \"semantic_type\": \"\",\n        \"description\": \"\"\n      }\n    },\n    {\n      \"column\": \"liveness\",\n      \"properties\": {\n        \"dtype\": \"number\",\n        \"std\": null,\n        \"min\": 0.132,\n        \"max\": 0.132,\n        \"num_unique_values\": 1,\n        \"samples\": [\n          0.132\n        ],\n        \"semantic_type\": \"\",\n        \"description\": \"\"\n      }\n    },\n    {\n      \"column\": \"loudness\",\n      \"properties\": {\n        \"dtype\": \"number\",\n        \"std\": null,\n        \"min\": -3.174,\n        \"max\": -3.174,\n        \"num_unique_values\": 1,\n        \"samples\": [\n          -3.174\n        ],\n        \"semantic_type\": \"\",\n        \"description\": \"\"\n      }\n    },\n    {\n      \"column\": \"mode\",\n      \"properties\": {\n        \"dtype\": \"number\",\n        \"std\": null,\n        \"min\": 1,\n        \"max\": 1,\n        \"num_unique_values\": 1,\n        \"samples\": [\n          1\n        ],\n        \"semantic_type\": \"\",\n        \"description\": \"\"\n      }\n    },\n    {\n      \"column\": \"speechiness\",\n      \"properties\": {\n        \"dtype\": \"number\",\n        \"std\": null,\n        \"min\": 0.0684,\n        \"max\": 0.0684,\n        \"num_unique_values\": 1,\n        \"samples\": [\n          0.0684\n        ],\n        \"semantic_type\": \"\",\n        \"description\": \"\"\n      }\n    },\n    {\n      \"column\": \"tempo\",\n      \"properties\": {\n        \"dtype\": \"number\",\n        \"std\": null,\n        \"min\": 129.996,\n        \"max\": 129.996,\n        \"num_unique_values\": 1,\n        \"samples\": [\n          129.996\n        ],\n        \"semantic_type\": \"\",\n        \"description\": \"\"\n      }\n    },\n    {\n      \"column\": \"time_signature\",\n      \"properties\": {\n        \"dtype\": \"number\",\n        \"std\": null,\n        \"min\": 4,\n        \"max\": 4,\n        \"num_unique_values\": 1,\n        \"samples\": [\n          4\n        ],\n        \"semantic_type\": \"\",\n        \"description\": \"\"\n      }\n    },\n    {\n      \"column\": \"valence\",\n      \"properties\": {\n        \"dtype\": \"number\",\n        \"std\": null,\n        \"min\": 0.696,\n        \"max\": 0.696,\n        \"num_unique_values\": 1,\n        \"samples\": [\n          0.696\n        ],\n        \"semantic_type\": \"\",\n        \"description\": \"\"\n      }\n    },\n    {\n      \"column\": \"artists\",\n      \"properties\": {\n        \"dtype\": \"object\",\n        \"semantic_type\": \"\",\n        \"description\": \"\"\n      }\n    },\n    {\n      \"column\": \"album_name\",\n      \"properties\": {\n        \"dtype\": \"string\",\n        \"num_unique_values\": 1,\n        \"samples\": [\n          \"One Of The Boys\"\n        ],\n        \"semantic_type\": \"\",\n        \"description\": \"\"\n      }\n    },\n    {\n      \"column\": \"album_type\",\n      \"properties\": {\n        \"dtype\": \"string\",\n        \"num_unique_values\": 1,\n        \"samples\": [\n          \"album\"\n        ],\n        \"semantic_type\": \"\",\n        \"description\": \"\"\n      }\n    },\n    {\n      \"column\": \"release_date\",\n      \"properties\": {\n        \"dtype\": \"object\",\n        \"num_unique_values\": 1,\n        \"samples\": [\n          \"2008-06-17\"\n        ],\n        \"semantic_type\": \"\",\n        \"description\": \"\"\n      }\n    },\n    {\n      \"column\": \"popularity\",\n      \"properties\": {\n        \"dtype\": \"number\",\n        \"std\": null,\n        \"min\": 69,\n        \"max\": 69,\n        \"num_unique_values\": 1,\n        \"samples\": [\n          69\n        ],\n        \"semantic_type\": \"\",\n        \"description\": \"\"\n      }\n    },\n    {\n      \"column\": \"duration_ms\",\n      \"properties\": {\n        \"dtype\": \"number\",\n        \"std\": null,\n        \"min\": 179640,\n        \"max\": 179640,\n        \"num_unique_values\": 1,\n        \"samples\": [\n          179640\n        ],\n        \"semantic_type\": \"\",\n        \"description\": \"\"\n      }\n    },\n    {\n      \"column\": \"explicit\",\n      \"properties\": {\n        \"dtype\": \"boolean\",\n        \"num_unique_values\": 1,\n        \"samples\": [\n          false\n        ],\n        \"semantic_type\": \"\",\n        \"description\": \"\"\n      }\n    },\n    {\n      \"column\": \"genres\",\n      \"properties\": {\n        \"dtype\": \"object\",\n        \"semantic_type\": \"\",\n        \"description\": \"\"\n      }\n    }\n  ]\n}"
            }
          },
          "metadata": {},
          "execution_count": 23
        }
      ]
    },
    {
      "cell_type": "code",
      "source": [],
      "metadata": {
        "id": "cC-A9u1lqy25"
      },
      "execution_count": null,
      "outputs": []
    }
  ],
  "metadata": {
    "colab": {
      "provenance": []
    },
    "kernelspec": {
      "display_name": "Python 3",
      "name": "python3"
    },
    "language_info": {
      "codemirror_mode": {
        "name": "ipython",
        "version": 3
      },
      "file_extension": ".py",
      "mimetype": "text/x-python",
      "name": "python",
      "nbconvert_exporter": "python",
      "pygments_lexer": "ipython3",
      "version": "3.10.12"
    }
  },
  "nbformat": 4,
  "nbformat_minor": 0
}